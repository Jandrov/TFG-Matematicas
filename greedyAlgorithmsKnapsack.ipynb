{
 "cells": [
  {
   "cell_type": "markdown",
   "metadata": {},
   "source": [
    "# Problema de la Mochila / Knapsack Problem (KP)\n",
    "\n",
    "En algoritmia, el problema de la mochila, comúnmente abreviado por KP (del inglés *Knapsack Problem*) es un problema de optimización combinatoria, es decir, que busca la mejor solución entre un conjunto finito de posibles soluciones a un problema. Modela una situación análoga a llenar una mochila, incapaz de soportar más de un peso determinado, con todo o parte de un conjunto de objetos, cada uno con un peso y valor específicos. Los objetos colocados en la mochila deben maximizar el valor total sin exceder el peso máximo.\n",
    "\n",
    "Este problema se presenta en uno de los libros de la bibliografía recomendada, *Fundamentals of algorithmics. Chapter 6: Greedy algorithms (Brassard, G.; Bratley, P.; 1996)*, y propone un algoritmo voraz para resolver el caso en el que podemos fraccionar los objetos. Si no fuera así (en el caso del problema de la mochila *discreto*), este algoritmo podría no darnos una solución óptima y tendríamos que requerir a otra estrategia, como programación dinámica.\n",
    "\n",
    "Vamos a implementar dicho algoritmo. Este podría ser su pseudocódigo:\n",
    "\n",
    "<p align=\"center\">\n",
    "  <img src=\"imgs/psc_knapsack_tfg.png\">\n",
    "</p>"
   ]
  },
  {
   "cell_type": "markdown",
   "metadata": {},
   "source": [
    "Para que a cada paso del greedy loop el primer paso sea trivial, vamos a ordenar la lista de pesos primero tal y como corresponde, para luego ir escogiendo secuencialmente los objetos. Ordenamos por **valor por unidad de peso**, de modo decreciente (esto determinará cuál es el *mejor objeto restante*):"
   ]
  },
  {
   "cell_type": "code",
   "execution_count": 1,
   "metadata": {},
   "outputs": [],
   "source": [
    "import numpy as np\n",
    "\n",
    "'''\n",
    " Función que ordena la primera lista según su cociente con la\n",
    " segunda (i.e., por l2[i]/l1[i]), de modo decreciente.\n",
    " \n",
    " Entrada:\n",
    "     l1: list -> lista de tamaño n\n",
    "     l2: list -> lista de tamaño n\n",
    " Salida:\n",
    "     list -> Lista de pares [pos, val] donde pos es la posición original\n",
    "             del valor en l1 y val es dicho valor. \n",
    "             Devuelve None en caso de error.\n",
    "'''\n",
    "def ordenar_lista_cociente(l1: list, l2: list) -> list:\n",
    "    n = len(l1)\n",
    "    if n != len(l2):\n",
    "        return None\n",
    "    lcocientes = np.array([l2[i]/l1[i] for i in range(n)])\n",
    "    np_l1 = np.array(list(enumerate(l1,0)))\n",
    "    return np_l1[lcocientes.argsort()[::-1]].tolist()"
   ]
  },
  {
   "cell_type": "code",
   "execution_count": 2,
   "metadata": {},
   "outputs": [],
   "source": [
    "'''\n",
    " Función que selecciona el objeto óptimo para la mochila,\n",
    " lo extrae de la lista y lo devuelve\n",
    " \n",
    " Entrada:\n",
    "     lista: list -> lista de tamaño n ya ordenada\n",
    " Salida:\n",
    "     list -> lista [pos, val] de la primera posición de\n",
    "             la lista de entrada\n",
    "'''\n",
    "def seleccionar(lista: list) -> list:\n",
    "    return lista.pop(0)"
   ]
  },
  {
   "cell_type": "code",
   "execution_count": 3,
   "metadata": {},
   "outputs": [],
   "source": [
    "'''\n",
    " Algoritmo que resuelve de manera óptima el problema de la mochila\n",
    " \n",
    " Entrada:\n",
    "     p: list -> lista de tamaño n con los pesos de los objetos\n",
    "     v: list -> lista de tamaño n con los valores de los objetos\n",
    "     peso_max: int -> peso máximo que puede contener la mochila\n",
    " Salida:\n",
    "     (list, float) -> Tupla de la lista con la cantidad óptima \n",
    "                     (de 0 a 1) de cada objeto en la mochila y\n",
    "                     el valor total de la mochila.\n",
    "                     Devuelve None en caso de error.\n",
    "'''\n",
    "def mochila(p: list, v: list, peso_max: float) -> (list, float):\n",
    "    if peso_max <= 0:\n",
    "        print(\"Error: El peso máximo debe ser positivo\")\n",
    "        return None\n",
    "    \n",
    "    p_ordenada = ordenar_lista_cociente(p, v)\n",
    "    if p_ordenada is None:\n",
    "        print(\"Error: Debe haber el mismo número de pesos y de valores\")\n",
    "        return None\n",
    "    \n",
    "    n = len(p_ordenada)\n",
    "    x = [0] * n\n",
    "    peso_actual = 0\n",
    "    while peso_actual < peso_max:\n",
    "        peso = seleccionar(p_ordenada)\n",
    "        if peso_actual + peso[1] <= peso_max:\n",
    "            x[int(peso[0])] = 1\n",
    "            peso_actual += peso[1]\n",
    "        else:\n",
    "            x[int(peso[0])] = (peso_max - peso_actual) / peso[1]\n",
    "            peso_actual = peso_max\n",
    "    \n",
    "    # Hacemos el producto escalar entre la estrategia óptima y los valores\n",
    "    valor_total = np.array(x) @ np.array(v)  \n",
    "    \n",
    "    return x, valor_total"
   ]
  },
  {
   "cell_type": "markdown",
   "metadata": {},
   "source": [
    "Probamos el algoritmo con el ejemplo del libro"
   ]
  },
  {
   "cell_type": "code",
   "execution_count": 4,
   "metadata": {},
   "outputs": [
    {
     "data": {
      "text/plain": [
       "([1, 1, 1, 0, 4/5], 164.0)"
      ]
     },
     "execution_count": 4,
     "metadata": {},
     "output_type": "execute_result"
    }
   ],
   "source": [
    "w = [10,20,30,40,50]\n",
    "v = [20,30,66,40,60]\n",
    "W = 100\n",
    "\n",
    "mochila(w,v,W)"
   ]
  },
  {
   "cell_type": "markdown",
   "metadata": {},
   "source": [
    "Ahora un par de casos erróneos para comprobar el control de errores añadido."
   ]
  },
  {
   "cell_type": "code",
   "execution_count": 5,
   "metadata": {},
   "outputs": [
    {
     "name": "stdout",
     "output_type": "stream",
     "text": [
      "Error: El peso máximo debe ser positivo\n",
      "Error: Debe haber el mismo número de pesos y de valores\n"
     ]
    }
   ],
   "source": [
    "mochila(w,[1,2],-2); mochila(w,[1,2],2)"
   ]
  },
  {
   "cell_type": "code",
   "execution_count": 6,
   "metadata": {
    "scrolled": true
   },
   "outputs": [
    {
     "data": {
      "text/plain": [
       "([1, 0, 0, 1, 1, 0.0117647058823531, 0], 118.22)"
      ]
     },
     "execution_count": 6,
     "metadata": {},
     "output_type": "execute_result"
    }
   ],
   "source": [
    "# Un caso con valores decimales que escogí arbitrariamente\n",
    "w2 = [10,32,22,30.5,10,17,23.6]\n",
    "v2 = [20,3.4,11,90.1,8,10.2,2]\n",
    "W2 = 50.7\n",
    "\n",
    "mochila(w2,v2,W2)"
   ]
  },
  {
   "cell_type": "markdown",
   "metadata": {},
   "source": [
    "Ahora vamos a implementar la versión donde usamos **max heaps** para representar los objetos, con el mayor valor por unidad de peso en la raíz. Como la librería *heapq* de Python implementa min heaps, vamos a negar los valores por unidad de peso para conseguir el max heap. De este modo, el *seleccionar()* será la raíz del heap."
   ]
  },
  {
   "cell_type": "code",
   "execution_count": 7,
   "metadata": {},
   "outputs": [],
   "source": [
    "import heapq as hq\n",
    "\n",
    "'''\n",
    " Función que crea un max heap según el cociente de los valores\n",
    " de la primera lista y la segunda (i.e., por l2[i]/l1[i])\n",
    " \n",
    " Entrada:\n",
    "     l1: list -> lista de tamaño n\n",
    "     l2: list -> lista de tamaño n\n",
    " Salida:\n",
    "     list -> heap (como una lista) de tuplas (c, (pos, val)) \n",
    "             donde c es el cociente l2[i]/l1[i], pos es la \n",
    "             posición original del valor en l1 y val es dicho valor. \n",
    "             Devuelve None en caso de error.\n",
    "'''\n",
    "def crear_max_heap(l1: list, l2: list) -> list:\n",
    "    n = len(l1)\n",
    "    if n != len(l2):\n",
    "        return None\n",
    "    lcocientes = [-l2[i]/l1[i] for i in range(n)]\n",
    "    ltuplas = list(zip(lcocientes, enumerate(l1, 0)))\n",
    "    heap = []\n",
    "    for tupla in ltuplas:\n",
    "        hq.heappush(heap, tupla)\n",
    "    return heap"
   ]
  },
  {
   "cell_type": "code",
   "execution_count": 8,
   "metadata": {},
   "outputs": [],
   "source": [
    "'''\n",
    " Función que selecciona el objeto óptimo para la mochila,\n",
    " lo extrae del heap y lo devuelve\n",
    " \n",
    " Entrada:\n",
    "     heap: list -> lista de tamaño n con estructura de max heap\n",
    " Salida:\n",
    "     tuple -> tupla (pos, val) de la raíz del heap\n",
    "'''\n",
    "def seleccionar_heaps(heap: list) -> tuple:\n",
    "    return hq.heappop(heap)[1]"
   ]
  },
  {
   "cell_type": "code",
   "execution_count": 9,
   "metadata": {},
   "outputs": [],
   "source": [
    "'''\n",
    " Algoritmo que resuelve de manera óptima el problema de la mochila\n",
    " usando heaps para representar los objetos\n",
    " \n",
    " Entrada:\n",
    "     p: list -> lista de tamaño n con los pesos de los objetos\n",
    "     v: list -> lista de tamaño n con los valores de los objetos\n",
    "     peso_max: int -> peso máximo que puede contener la mochila\n",
    " Salida:\n",
    "     (list, float) -> Tupla de la lista con la cantidad óptima \n",
    "                     (de 0 a 1) de cada objeto en la mochila y\n",
    "                     el valor total de la mochila.\n",
    "                     Devuelve None en caso de error.\n",
    "'''\n",
    "def mochila_heaps(p: list, v: list, peso_max: float) -> (list, float):\n",
    "    if peso_max <= 0:\n",
    "        print(\"Error: El peso máximo debe ser positivo\")\n",
    "        return None\n",
    "    \n",
    "    heap = crear_max_heap(p, v)\n",
    "    if heap is None:\n",
    "        print(\"Error: Debe haber el mismo número de pesos y de valores\")\n",
    "        return None\n",
    "    \n",
    "    n = len(heap)\n",
    "    x = [0] * n\n",
    "    peso_actual = 0\n",
    "    while peso_actual < peso_max:\n",
    "        peso = seleccionar_heaps(heap)\n",
    "        if peso_actual + peso[1] <= peso_max:\n",
    "            x[int(peso[0])] = 1\n",
    "            peso_actual += peso[1]\n",
    "        else:\n",
    "            x[int(peso[0])] = (peso_max - peso_actual) / peso[1]\n",
    "            peso_actual = peso_max\n",
    "    \n",
    "    # Hacemos el producto escalar entre la estrategia óptima y los valores\n",
    "    valor_total = np.array(x) @ np.array(v)  \n",
    "    \n",
    "    return x, valor_total"
   ]
  },
  {
   "cell_type": "markdown",
   "metadata": {},
   "source": [
    "Volvemos a probar el algoritmo con el ejemplo del libro y el de decimales"
   ]
  },
  {
   "cell_type": "code",
   "execution_count": 10,
   "metadata": {},
   "outputs": [
    {
     "data": {
      "text/html": [
       "<html><script type=\"math/tex; mode=display\">\\newcommand{\\Bold}[1]{\\mathbf{#1}}\\left(\\left[1, 1, 1, 0, \\frac{4}{5}\\right], 164.0\\right)</script></html>"
      ],
      "text/plain": [
       "([1, 1, 1, 0, 4/5], 164.0)"
      ]
     },
     "metadata": {},
     "output_type": "display_data"
    },
    {
     "data": {
      "text/html": [
       "<html><script type=\"math/tex; mode=display\">\\newcommand{\\Bold}[1]{\\mathbf{#1}}\\left(\\left[1, 0, 0, 1, 1, 0.0117647058823531, 0\\right], 118.22\\right)</script></html>"
      ],
      "text/plain": [
       "([1, 0, 0, 1, 1, 0.0117647058823531, 0], 118.22)"
      ]
     },
     "metadata": {},
     "output_type": "display_data"
    }
   ],
   "source": [
    "w = [10,20,30,40,50]\n",
    "v = [20,30,66,40,60]\n",
    "W = 100\n",
    "\n",
    "w2 = [10,32,22,30.5,10,17,23.6]\n",
    "v2 = [20,3.4,11,90.1,8,10.2,2]\n",
    "W2 = 50.7\n",
    "\n",
    "show(mochila_heaps(w,v,W))\n",
    "show(mochila_heaps(w2,v2,W2))"
   ]
  },
  {
   "cell_type": "markdown",
   "metadata": {},
   "source": [
    "Vamos a hacer una pequeña comparación de tiempos entre ambos modos de implementar el algoritmo"
   ]
  },
  {
   "cell_type": "code",
   "execution_count": 11,
   "metadata": {},
   "outputs": [],
   "source": [
    "import timeit as t\n",
    "\n",
    "# Encapsulamos los algoritmos en unas funciones sin argumentos para usar luego el módulo timeit\n",
    "def test_mochila_1():\n",
    "    mochila(w,v,W)\n",
    "    \n",
    "def test_mochila_heaps_1():\n",
    "    mochila_heaps(w,v,W)\n",
    "    \n",
    "def test_mochila_2():\n",
    "    mochila(w2,v2,W2)\n",
    "    \n",
    "def test_mochila_heaps_2():\n",
    "    mochila_heaps(w2,v2,W2)"
   ]
  },
  {
   "cell_type": "markdown",
   "metadata": {},
   "source": [
    "Vamos a realizar por ahora solo 10000 pruebas donde ejecutamos 100 veces cada algoritmo, para hacer una estadística rápida (también mediremos el tiempo de ejecución completo de la batería de pruebas con el *magic command* **%time**, para una primera comparación)"
   ]
  },
  {
   "cell_type": "code",
   "execution_count": 12,
   "metadata": {},
   "outputs": [
    {
     "name": "stdout",
     "output_type": "stream",
     "text": [
      "CPU times: user 43.9 s, sys: 140 ms, total: 44 s\n",
      "Wall time: 45 s\n"
     ]
    }
   ],
   "source": [
    "# Ejecutado en mi ordenador, el tiempo aproximado de la celda son unos 45 segundos\n",
    "%time tiempos_mochila_1 = t.repeat(test_mochila_1, repeat=10000, number=100)"
   ]
  },
  {
   "cell_type": "code",
   "execution_count": 13,
   "metadata": {},
   "outputs": [
    {
     "name": "stdout",
     "output_type": "stream",
     "text": [
      "CPU times: user 26 s, sys: 63 ms, total: 26 s\n",
      "Wall time: 26.1 s\n"
     ]
    }
   ],
   "source": [
    "# Ejecutado en mi ordenador, el tiempo aproximado de la celda son unos 25 segundos\n",
    "%time tiempos_mochila_heaps_1 = t.repeat(test_mochila_heaps_1, repeat=10000, number=100)"
   ]
  },
  {
   "cell_type": "code",
   "execution_count": 14,
   "metadata": {},
   "outputs": [
    {
     "name": "stdout",
     "output_type": "stream",
     "text": [
      "CPU times: user 1min 3s, sys: 47 ms, total: 1min 3s\n",
      "Wall time: 1min 3s\n"
     ]
    }
   ],
   "source": [
    "# Ejecutado en mi ordenador, el tiempo aproximado de la celda es de 1 minuto\n",
    "%time tiempos_mochila_2 = t.repeat(test_mochila_2, repeat=10000, number=100)"
   ]
  },
  {
   "cell_type": "code",
   "execution_count": 15,
   "metadata": {},
   "outputs": [
    {
     "name": "stdout",
     "output_type": "stream",
     "text": [
      "CPU times: user 1min 6s, sys: 47 ms, total: 1min 6s\n",
      "Wall time: 1min 6s\n"
     ]
    }
   ],
   "source": [
    "# Ejecutado en mi ordenador, el tiempo aproximado de la celda es de 1 minuto\n",
    "%time tiempos_mochila_heaps_2 = t.repeat(test_mochila_heaps_2, repeat=10000, number=100)"
   ]
  },
  {
   "cell_type": "markdown",
   "metadata": {},
   "source": [
    "Imprimamos solo los 10 primeros resultados de cada test, por mostrar el orden de los tiempos:"
   ]
  },
  {
   "cell_type": "code",
   "execution_count": 16,
   "metadata": {},
   "outputs": [
    {
     "data": {
      "text/html": [
       "<html><script type=\"math/tex; mode=display\">\\newcommand{\\Bold}[1]{\\mathbf{#1}}\\verb|Tiempos|\\phantom{\\verb!x!}\\verb|mochila|\\phantom{\\verb!x!}\\verb|1| \\left[0.006472299981396645, 0.005646999983582646, 0.006760400021448731, 0.004394699994008988, 0.004737999988719821, 0.004496800014749169, 0.004525199998170137, 0.004293199977837503, 0.004347299982327968, 0.0044371000258252025\\right]</script></html>"
      ],
      "text/plain": [
       "'Tiempos mochila 1' [0.006472299981396645,\n",
       " 0.005646999983582646,\n",
       " 0.006760400021448731,\n",
       " 0.004394699994008988,\n",
       " 0.004737999988719821,\n",
       " 0.004496800014749169,\n",
       " 0.004525199998170137,\n",
       " 0.004293199977837503,\n",
       " 0.004347299982327968,\n",
       " 0.0044371000258252025]"
      ]
     },
     "metadata": {},
     "output_type": "display_data"
    },
    {
     "data": {
      "text/html": [
       "<html><script type=\"math/tex; mode=display\">\\newcommand{\\Bold}[1]{\\mathbf{#1}}\\verb|Tiempos|\\phantom{\\verb!x!}\\verb|mochila|\\phantom{\\verb!x!}\\verb|heaps|\\phantom{\\verb!x!}\\verb|1| \\left[0.002895899990107864, 0.0030821000109426677, 0.00345949997426942, 0.0030943999881856143, 0.0027413000352680683, 0.002756799978669733, 0.0027108999784104526, 0.004012499994132668, 0.0045479999971576035, 0.003162400040309876\\right]</script></html>"
      ],
      "text/plain": [
       "'Tiempos mochila heaps 1' [0.002895899990107864,\n",
       " 0.0030821000109426677,\n",
       " 0.00345949997426942,\n",
       " 0.0030943999881856143,\n",
       " 0.0027413000352680683,\n",
       " 0.002756799978669733,\n",
       " 0.0027108999784104526,\n",
       " 0.004012499994132668,\n",
       " 0.0045479999971576035,\n",
       " 0.003162400040309876]"
      ]
     },
     "metadata": {},
     "output_type": "display_data"
    },
    {
     "data": {
      "text/html": [
       "<html><script type=\"math/tex; mode=display\">\\newcommand{\\Bold}[1]{\\mathbf{#1}}\\verb|Tiempos|\\phantom{\\verb!x!}\\verb|mochila|\\phantom{\\verb!x!}\\verb|2| \\left[0.006472299981396645, 0.005646999983582646, 0.006760400021448731, 0.004394699994008988, 0.004737999988719821, 0.004496800014749169, 0.004525199998170137, 0.004293199977837503, 0.004347299982327968, 0.0044371000258252025\\right]</script></html>"
      ],
      "text/plain": [
       "'Tiempos mochila 2' [0.006472299981396645,\n",
       " 0.005646999983582646,\n",
       " 0.006760400021448731,\n",
       " 0.004394699994008988,\n",
       " 0.004737999988719821,\n",
       " 0.004496800014749169,\n",
       " 0.004525199998170137,\n",
       " 0.004293199977837503,\n",
       " 0.004347299982327968,\n",
       " 0.0044371000258252025]"
      ]
     },
     "metadata": {},
     "output_type": "display_data"
    },
    {
     "data": {
      "text/html": [
       "<html><script type=\"math/tex; mode=display\">\\newcommand{\\Bold}[1]{\\mathbf{#1}}\\verb|Tiempos|\\phantom{\\verb!x!}\\verb|mochila|\\phantom{\\verb!x!}\\verb|heaps|\\phantom{\\verb!x!}\\verb|2| \\left[0.007798800012096763, 0.007737600011751056, 0.007193700002972037, 0.006779399991501123, 0.006825599994044751, 0.006491799955256283, 0.00696510000852868, 0.006443299993406981, 0.006581399997230619, 0.006545000011101365\\right]</script></html>"
      ],
      "text/plain": [
       "'Tiempos mochila heaps 2' [0.007798800012096763,\n",
       " 0.007737600011751056,\n",
       " 0.007193700002972037,\n",
       " 0.006779399991501123,\n",
       " 0.006825599994044751,\n",
       " 0.006491799955256283,\n",
       " 0.00696510000852868,\n",
       " 0.006443299993406981,\n",
       " 0.006581399997230619,\n",
       " 0.006545000011101365]"
      ]
     },
     "metadata": {},
     "output_type": "display_data"
    }
   ],
   "source": [
    "show(\"Tiempos mochila 1\", tiempos_mochila_1[:10])\n",
    "show(\"Tiempos mochila heaps 1\", tiempos_mochila_heaps_1[:10])\n",
    "show(\"Tiempos mochila 2\", tiempos_mochila_1[:10])\n",
    "show(\"Tiempos mochila heaps 2\", tiempos_mochila_heaps_2[:10])"
   ]
  },
  {
   "cell_type": "markdown",
   "metadata": {},
   "source": [
    "Ahora comparemos los tiempos dependiendo de si hemos usado heaps o no"
   ]
  },
  {
   "cell_type": "code",
   "execution_count": 17,
   "metadata": {},
   "outputs": [
    {
     "data": {
      "text/html": [
       "<html><script type=\"math/tex; mode=display\">\\newcommand{\\Bold}[1]{\\mathbf{#1}}\\verb|En|\\phantom{\\verb!x!}\\verb|la|\\phantom{\\verb!x!}\\verb|primera|\\phantom{\\verb!x!}\\verb|prueba|\\phantom{\\verb!x!}\\verb|hay|\\phantom{\\verb!x!}\\verb|9976|\\phantom{\\verb!x!}\\verb|veces|\\phantom{\\verb!x!}\\verb|que|\\phantom{\\verb!x!}\\verb|es|\\phantom{\\verb!x!}\\verb|mejor|\\phantom{\\verb!x!}\\verb|usar|\\phantom{\\verb!x!}\\verb|heaps|\\phantom{\\verb!x!}\\verb|y|\\phantom{\\verb!x!}\\verb|24|\\phantom{\\verb!x!}\\verb|que|\\phantom{\\verb!x!}\\verb|no|</script></html>"
      ],
      "text/plain": [
       "'En la primera prueba hay 9976 veces que es mejor usar heaps y 24 que no'"
      ]
     },
     "metadata": {},
     "output_type": "display_data"
    }
   ],
   "source": [
    "heaps = 0\n",
    "for i in range(len(tiempos_mochila_1)):\n",
    "    if tiempos_mochila_1[i] > tiempos_mochila_heaps_1[i]:\n",
    "        heaps += 1\n",
    "\n",
    "show(f\"En la primera prueba hay {heaps} veces que es mejor usar heaps y {i-heaps+1} que no\")"
   ]
  },
  {
   "cell_type": "code",
   "execution_count": 18,
   "metadata": {},
   "outputs": [
    {
     "data": {
      "text/html": [
       "<html><script type=\"math/tex; mode=display\">\\newcommand{\\Bold}[1]{\\mathbf{#1}}\\verb|En|\\phantom{\\verb!x!}\\verb|la|\\phantom{\\verb!x!}\\verb|segunda|\\phantom{\\verb!x!}\\verb|prueba|\\phantom{\\verb!x!}\\verb|hay|\\phantom{\\verb!x!}\\verb|1801|\\phantom{\\verb!x!}\\verb|veces|\\phantom{\\verb!x!}\\verb|que|\\phantom{\\verb!x!}\\verb|es|\\phantom{\\verb!x!}\\verb|mejor|\\phantom{\\verb!x!}\\verb|usar|\\phantom{\\verb!x!}\\verb|heaps|\\phantom{\\verb!x!}\\verb|y|\\phantom{\\verb!x!}\\verb|8199|\\phantom{\\verb!x!}\\verb|que|\\phantom{\\verb!x!}\\verb|no|</script></html>"
      ],
      "text/plain": [
       "'En la segunda prueba hay 1801 veces que es mejor usar heaps y 8199 que no'"
      ]
     },
     "metadata": {},
     "output_type": "display_data"
    }
   ],
   "source": [
    "heaps = 0\n",
    "for i in range(len(tiempos_mochila_2)):\n",
    "    if tiempos_mochila_2[i] > tiempos_mochila_heaps_2[i]:\n",
    "        heaps += 1\n",
    "\n",
    "show(f\"En la segunda prueba hay {heaps} veces que es mejor usar heaps y {i-heaps+1} que no\")"
   ]
  },
  {
   "cell_type": "markdown",
   "metadata": {},
   "source": [
    "### En conclusión, parece que en el primer caso, el ejemplo del libro, casi siempre es óptimo usar heaps (aproximadamente en un 99% de los casos), pero en el segundo (con números arbitrarios) solo alrededor del 15-20% de las veces. De todos modos estas pruebas deberían realizarse con vectores más aleatorios, de distintos tamaños y mayor número de ejecuciones"
   ]
  },
  {
   "cell_type": "code",
   "execution_count": null,
   "metadata": {},
   "outputs": [],
   "source": []
  }
 ],
 "metadata": {
  "kernelspec": {
   "display_name": "SageMath 9.0",
   "language": "sage",
   "name": "sagemath"
  },
  "language_info": {
   "codemirror_mode": {
    "name": "ipython",
    "version": 3
   },
   "file_extension": ".py",
   "mimetype": "text/x-python",
   "name": "python",
   "nbconvert_exporter": "python",
   "pygments_lexer": "ipython3",
   "version": "3.7.3"
  }
 },
 "nbformat": 4,
 "nbformat_minor": 2
}
