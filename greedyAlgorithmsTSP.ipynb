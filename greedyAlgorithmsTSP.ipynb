{
 "cells": [
  {
   "cell_type": "markdown",
   "metadata": {},
   "source": [
    "# Problema del Viajante / Travelling Salesman Problem (TSP)\n",
    "\n",
    "Vamos a tratar de solucionar el problema del viajante. En él, saliendo desde una ciudad tenemos que encontrar el camino óptimo pasando por cada ciudad una única vez y regresando al punto de partida. Cada camino tiene un coste así que habrá que buscar el que tenga menor coste."
   ]
  },
  {
   "cell_type": "markdown",
   "metadata": {},
   "source": [
    "El problema se modela usando **grafos ponderados completos no dirigidos** (las ciudades son los vértices).\n",
    "\n",
    "Vamos a usar este grafo de ejemplo, el cual es muy simple:\n",
    "<p align=\"center\">\n",
    "  <img src=\"imgs/tsp_example.png\">\n",
    "</p>"
   ]
  },
  {
   "cell_type": "code",
   "execution_count": 1,
   "metadata": {},
   "outputs": [],
   "source": [
    "from math import inf\n",
    "\n",
    "# Grafo de ejemplo, representado primero como lista de vértices y matriz de adyacencias\n",
    "vertices = [\"1\",\"2\",\"3\",\"4\"]\n",
    "matriz = [[inf, 10, 15, 20],\n",
    "          [10, inf, 35, 25],\n",
    "          [15, 35, inf, 30],\n",
    "          [20, 25, 30, inf]]"
   ]
  },
  {
   "cell_type": "markdown",
   "metadata": {},
   "source": [
    "El primer algoritmo que vamos a implementar es el *ingenuo* o de *fuerza bruta*, ya que básicamente consiste en calcular todos los posibles caminos y quedarnos con el mejor"
   ]
  },
  {
   "cell_type": "code",
   "execution_count": 2,
   "metadata": {},
   "outputs": [],
   "source": [
    "from itertools import permutations\n",
    "\n",
    "'''\n",
    " Algoritmo de fuerza bruta sobre un grafo para encontrar\n",
    " la solución óptima al problema del viajante\n",
    " \n",
    " Entrada:\n",
    "     matriz: list    -> matriz de adyacencias del grafo\n",
    "     vertices: list  -> lista de vértices del grafo\n",
    "     comienzo: str   -> nodo desde el que comenzamos el ciclo\n",
    " Salida:\n",
    "     (list, float)   -> tupla formada por la lista de enlaces del \n",
    "                        camino encontrado y su longitud total\n",
    "'''\n",
    "def algoritmo_ingenuo_viajante(matriz: list, vertices: list, comienzo: str) -> (list, float):\n",
    "    # Inicializamos los valores de retorno\n",
    "    camino_optimo, coste_minimo = [], inf\n",
    "    \n",
    "    # Generamos los posibles caminos\n",
    "    copia_vertices = vertices.copy()\n",
    "    copia_vertices.remove(comienzo)\n",
    "    posiciones = list(map(lambda vertice: int(vertice), copia_vertices))\n",
    "    primera_posicion = int(comienzo) - 1\n",
    "    posibles_caminos = permutations(posiciones)\n",
    "    \n",
    "    # Iteramos sobre cada posible camino\n",
    "    for camino in posibles_caminos:\n",
    "        coste_camino_actual = 0\n",
    " \n",
    "        # Calculamos el coste del camino actual\n",
    "        vertice_actual = primera_posicion\n",
    "        for vertice in camino:\n",
    "            coste_camino_actual += matriz[vertice_actual][vertice-1]\n",
    "            vertice_actual = vertice - 1\n",
    "        coste_camino_actual += matriz[vertice_actual][primera_posicion]\n",
    " \n",
    "        # Actualizamos el mínimo\n",
    "        if coste_camino_actual < coste_minimo:\n",
    "            camino_optimo = list(camino)\n",
    "            coste_minimo = coste_camino_actual\n",
    "\n",
    "    # Terminamos de construir el camino óptimo como un ciclo\n",
    "    camino_optimo = [primera_posicion + 1] + camino_optimo + [primera_posicion + 1]\n",
    "    \n",
    "    return camino_optimo, coste_minimo"
   ]
  },
  {
   "cell_type": "code",
   "execution_count": 3,
   "metadata": {},
   "outputs": [
    {
     "data": {
      "text/plain": [
       "([1, 2, 4, 3, 1], 80)"
      ]
     },
     "execution_count": 3,
     "metadata": {},
     "output_type": "execute_result"
    }
   ],
   "source": [
    "algoritmo_ingenuo_viajante(matriz, vertices, vertices[0])"
   ]
  },
  {
   "cell_type": "code",
   "execution_count": 4,
   "metadata": {},
   "outputs": [
    {
     "data": {
      "text/html": [
       "<html><script type=\"math/tex; mode=display\">\\newcommand{\\Bold}[1]{\\mathbf{#1}}\\left(\\left[1, 2, 4, 3, 1\\right], 80\\right)</script></html>"
      ],
      "text/plain": [
       "([1, 2, 4, 3, 1], 80)"
      ]
     },
     "metadata": {},
     "output_type": "display_data"
    },
    {
     "data": {
      "text/html": [
       "<html><script type=\"math/tex; mode=display\">\\newcommand{\\Bold}[1]{\\mathbf{#1}}\\left(\\left[2, 1, 3, 4, 2\\right], 80\\right)</script></html>"
      ],
      "text/plain": [
       "([2, 1, 3, 4, 2], 80)"
      ]
     },
     "metadata": {},
     "output_type": "display_data"
    },
    {
     "data": {
      "text/html": [
       "<html><script type=\"math/tex; mode=display\">\\newcommand{\\Bold}[1]{\\mathbf{#1}}\\left(\\left[3, 1, 2, 4, 3\\right], 80\\right)</script></html>"
      ],
      "text/plain": [
       "([3, 1, 2, 4, 3], 80)"
      ]
     },
     "metadata": {},
     "output_type": "display_data"
    },
    {
     "data": {
      "text/html": [
       "<html><script type=\"math/tex; mode=display\">\\newcommand{\\Bold}[1]{\\mathbf{#1}}\\left(\\left[4, 2, 1, 3, 4\\right], 80\\right)</script></html>"
      ],
      "text/plain": [
       "([4, 2, 1, 3, 4], 80)"
      ]
     },
     "metadata": {},
     "output_type": "display_data"
    }
   ],
   "source": [
    "# Veamos los distintos caminos óptimos comenzando por cada vértice. Deberían coincidir\n",
    "for vertice in vertices:\n",
    "    show(algoritmo_ingenuo_viajante(matriz, vertices, vertice))"
   ]
  },
  {
   "cell_type": "markdown",
   "metadata": {},
   "source": [
    "Este algoritmo encuentra la solución óptima pero como es evidente, solo se puede usar para problemas con pocas ciudades. Esto se debe a su complejidad **factorial** (para N ciudades, es $O((N-1)!)$). Por ejemplo: para 10 ciudades hay (10-1)!/2=181440 rutas diferentes"
   ]
  },
  {
   "cell_type": "markdown",
   "metadata": {},
   "source": [
    "Ahora vamos a implementar un algoritmo voraz para solucionar el problema del viajante. Escogemos el **Algoritmo del MST**. Básicamente consiste en construir primero el MST del grafo y después generar el tour óptimo del viajante recorriendo los vértices en el orden que indique un *recorrido preorden* del MST (cerrando el ciclo al final, obviamente)\n",
    "\n",
    "Para encontrar el árbol recubridor mínimo vamos a reutilizar uno de los algoritmos ya implementados, el de **Prim**. Anteriormente comenzamos en el primer vértice de modo arbitrario, pero como el problema del viajante comienza en un nodo determinado, vamos a añadir ese parámetro al algoritmo.\n",
    "\n",
    "Este sería su pseudocódigo:\n",
    "\n",
    "<p align=\"center\">\n",
    "  <img src=\"imgs/psc_mst_tsp_tfg.png\">\n",
    "</p>"
   ]
  },
  {
   "cell_type": "markdown",
   "metadata": {},
   "source": [
    "La manera de representar el grafo va a ser basada en la clase ***adjgraph*** mencionada en el notebook sobre grafos.\n",
    "\n",
    "La clase ***adjgraph*** contiene:\n",
    "* Una lista de vértices, cada uno representado por su etiqueta. Asumimos que son números enteros y ordenados del 1 en adelante.\n",
    "* Una matriz de adyacencias (i.e., una lista de listas) cuadrada y simétrica que contiene en su casilla [i,j] la longitud del enlace que conecta dichos vértices, o infinito (*math.inf*) en caso de no estar conectados"
   ]
  },
  {
   "cell_type": "code",
   "execution_count": 5,
   "metadata": {},
   "outputs": [],
   "source": [
    "'''\n",
    "    Clase que representa un grafo ponderado NO DIRIGIDO \n",
    "    de n vértices como:\n",
    "    - Una lista con las etiquetas de los vértices (ordenados\n",
    "      de 1 a n)\n",
    "    - Una matriz de adyacencias simétrica con la longitud de cada\n",
    "      enlace e infinito en los enlaces que no existan\n",
    "    Se implementan luego algunos métodos útiles\n",
    "'''\n",
    "\n",
    "class adjgraph(object):\n",
    "    \n",
    "    def __init__(self, vertices=[], matriz=[]):\n",
    "        '''\n",
    "            Inicializa un objeto adjgraph.\n",
    "            Si no se pasan la matriz o los vértices,\n",
    "            se usarán unos vacíos.\n",
    "        '''\n",
    "        self.__vertices = vertices\n",
    "        self.__matriz = matriz\n",
    "\n",
    "    def vertices(self):\n",
    "        ''' Devuelve los vértices del grafo '''\n",
    "        return self.__vertices\n",
    "    \n",
    "    def matriz(self):\n",
    "        ''' Devuelve la matriz de adyacencias del grafo '''\n",
    "        return self.__matriz\n",
    "\n",
    "    def enlaces(self, vertice=None):\n",
    "        ''' \n",
    "            Devuelve los enlaces del grafo. \n",
    "            Si se pasa un vértice como argumento,\n",
    "            se devuelven los enlaces que contienen\n",
    "            a dicho vértice. Si no, se devuelven\n",
    "            todos los enlaces del grafo\n",
    "        '''\n",
    "        return self.__generar_enlaces(vertice)\n",
    "\n",
    "    def anadir_vertice(self, vertice):\n",
    "        ''' \n",
    "            Si el vértice \"vertice\" no está en \n",
    "            self.__vertices, se añade a la lista al\n",
    "            final (debe ser el vértice n+1 tal y como\n",
    "            hemos definido los vértices en este grafo)\n",
    "            se añade en la matriz de enlaces con inf,\n",
    "            y se devuelve True\n",
    "            En otro caso, devuelve False. \n",
    "        '''\n",
    "        if vertice not in self.__vertices:\n",
    "            num_v = len(self.__vertices)\n",
    "            if int(vertice) == num_v+1:\n",
    "                self.__vertices.append(vertice)\n",
    "                for lista in self.__matriz:\n",
    "                    lista.append(inf)\n",
    "                self.__matriz.append([inf]*(num_v+1))\n",
    "                return True\n",
    "        return False\n",
    "\n",
    "    def anadir_enlace(self, vertice1, vertice2, longitud):\n",
    "        ''' \n",
    "            Aquí como el grafo es no digirido, el orden de \n",
    "            los vértices solo es relevante a la hora de\n",
    "            insertar los nuevos vértices en orden.\n",
    "            Se crea un enlace entre los vértices de longitud \n",
    "            \"longitud\", añadiendo dichos vértices si es\n",
    "            necesario y posible.\n",
    "        '''\n",
    "        indice1, indice2 = int(vertice1), int(vertice2)\n",
    "        if vertice1 in self.__vertices and vertice2 in self.__vertices:\n",
    "            i, j = indice1-1, indice2-1 \n",
    "            if self.__matriz[i][j] == inf:\n",
    "                self.__matriz[i][j] = longitud\n",
    "                self.__matriz[j][i] = longitud\n",
    "        elif vertice1 in self.__vertices:\n",
    "            if self.anadir_vertice(vertice2):\n",
    "                i, j = indice1-1, indice2-1 \n",
    "                self.__matriz[i][j] = longitud\n",
    "                self.__matriz[j][i] = longitud\n",
    "        else:\n",
    "            if abs(indice1-indice2) == 1:\n",
    "                if self.anadir_vertice(vertice1):\n",
    "                    self.anadir_vertice(vertice2)\n",
    "                elif self.anadir_vertice(vertice2):\n",
    "                    self.anadir_vertice(vertice1)\n",
    "                else:\n",
    "                    return\n",
    "                i, j = indice1-1, indice2-1 \n",
    "                self.__matriz[i][j] = longitud\n",
    "                self.__matriz[j][i] = longitud\n",
    "                    \n",
    "\n",
    "    def __generar_enlaces(self, vertice=None):\n",
    "        ''' \n",
    "            Un método estático que genera los enlaces del\n",
    "            grafo. Si se pasa un vértice como argumento,\n",
    "            se generan los enlaces que contienen\n",
    "            a dicho vértice. Si no, se generan todos.\n",
    "            Los enlaces son representados como \n",
    "            diccionarios con \"e\" (enlace) y \"l\" (longitud)\n",
    "        '''\n",
    "        enlaces = []\n",
    "        n = len(self.__vertices)\n",
    "        if vertice is None:\n",
    "            for i in range(n):\n",
    "                for j in range(i, n):\n",
    "                    enlace = self.__crear_enlace(i, j)\n",
    "                    if enlace is not None:\n",
    "                        enlaces.append(enlace)\n",
    "                    \n",
    "        else:\n",
    "            j = int(vertice - 1)\n",
    "            for i in range(n):\n",
    "                enlace = self.__crear_enlace(i, j)\n",
    "                if enlace is not None:\n",
    "                    enlaces.append(enlace)\n",
    "                        \n",
    "        return enlaces\n",
    "    \n",
    "    def __crear_enlace(self, fila, columna):\n",
    "        ''' \n",
    "            Un método estático que crea un enlace\n",
    "            accediendo a la matriz de adyacencias\n",
    "            por una fila y columna determinadas\n",
    "        '''\n",
    "        if self.__matriz[fila][columna] != inf:\n",
    "            return {\"e\" : {fila + 1, columna + 1},\n",
    "                    \"l\" : self.__matriz[fila][columna]}\n",
    "        else:\n",
    "            return None\n",
    "\n",
    "    def __str__(self):\n",
    "        res = \"vértices: \"\n",
    "        for k in self.__vertices:\n",
    "            res += k + \" \"\n",
    "        res += \"\\nenlaces: \"\n",
    "        for enlace in self.__generar_enlaces():\n",
    "            res += str(enlace) + \" \"\n",
    "        return res"
   ]
  },
  {
   "cell_type": "code",
   "execution_count": 6,
   "metadata": {},
   "outputs": [],
   "source": [
    "'''\n",
    " Algoritmo de Prim para encontrar el árbol recubridor mínimo\n",
    " en un grafo conexo no dirigido, con una raíz determinada\n",
    " \n",
    " Entrada:\n",
    "     grafo: adjgraph -> grafo donde buscamos el árbol recubridor\n",
    "                        mínimo\n",
    "     comienzo: str   -> nodo desde el que comenzamos el MST\n",
    " Salida:\n",
    "     (list, float)   -> tupla formada por la lista de enlaces del \n",
    "                        árbol recubridor mínimo y su longitud total\n",
    "'''\n",
    "def prim(grafo: adjgraph, comienzo: str) -> (set, float):\n",
    "    longitud_total = 0                 # Longitud total del MST\n",
    "    T = []                             # Lista de enlaces del MST\n",
    "    primero = int(comienzo)            # Vértice en el que comenzamos\n",
    "    primera_posicion = primero - 1     # Posición del vértice donde comenzamos\n",
    "    n = len(grafo.vertices())          # Número de vértices del grafo\n",
    "    matriz = grafo.matriz()            # Matriz de adyacencias del grafo\n",
    "        \n",
    "    # Inicializamos nuestros arrays según el vértice por el que empezamos\n",
    "    mas_cercano = [primero] * n                 \n",
    "    dist_min = []\n",
    "    for i in range(n):\n",
    "        if i == primera_posicion:\n",
    "            dist_min.append(-1)\n",
    "        else:\n",
    "            dist_min.append(matriz[i][primera_posicion])\n",
    "\n",
    "    for _ in range(n-1):\n",
    "        min = inf\n",
    "        for j in range(n):\n",
    "            if j == primera_posicion:\n",
    "                continue\n",
    "            if 0 <= dist_min[j] and dist_min[j] < min:\n",
    "                min = dist_min[j]\n",
    "                k = j\n",
    "        T.append({ \"e\" : {mas_cercano[k], k + 1},\n",
    "                   \"l\" : min })\n",
    "        longitud_total += min\n",
    "        dist_min[k] = -1\n",
    "        for j in range(n):\n",
    "            if j == primera_posicion:\n",
    "                continue\n",
    "            if matriz[j][k] < dist_min[j]:\n",
    "                dist_min[j] = matriz[j][k]\n",
    "                mas_cercano[j] = k + 1\n",
    "    \n",
    "    return T, longitud_total"
   ]
  },
  {
   "cell_type": "code",
   "execution_count": 7,
   "metadata": {},
   "outputs": [],
   "source": [
    "'''\n",
    " Función que devuelve una lista con los vértices del\n",
    " árbol recibido, recorriéndolo en preorden\n",
    " \n",
    " Entrada:\n",
    "     arbol: list -> lista de enlaces del arbol\n",
    "\n",
    " Salida:\n",
    "     list        -> lista con los vértices del recorrido preorden\n",
    "'''\n",
    "def vertices_preorden(arbol: list) -> list:    \n",
    "    vertices = []       # Lista de vertices del recorrido preorden\n",
    "    \n",
    "    for enlace in arbol:\n",
    "        for vertice in enlace[\"e\"]:\n",
    "            if vertice not in vertices:\n",
    "                vertices.append(vertice)\n",
    "    \n",
    "    return vertices"
   ]
  },
  {
   "cell_type": "code",
   "execution_count": 8,
   "metadata": {},
   "outputs": [],
   "source": [
    "'''\n",
    " Función que devuelve los enlaces del ciclo que recorre\n",
    " los vértices recibidos en ese mismo orden, y la longitud\n",
    " total de dicho ciclo\n",
    " \n",
    " Entrada:\n",
    "     grafo: adjgraph -> grafo donde buscamos el ciclo óptimo\n",
    "     vertices: list  -> lista de vertices en determinado orden\n",
    "\n",
    " Salida:\n",
    "     (list, float)   -> tupla formada por la lista de enlaces del \n",
    "                        ciclo y su longitud total\n",
    "'''\n",
    "def enlaces_tour_viajante(grafo: adjgraph, vertices: list) -> (list, float):\n",
    "    longitud_total = 0             # Longitud total del ciclo\n",
    "    ciclo = []                     # Lista de enlaces del ciclo\n",
    "    matriz = grafo.matriz()        # Matriz de adyacencias del grafo\n",
    "    n = len(vertices)              # Número de vértices\n",
    "    for pos in range(n-1):\n",
    "        vertice1, vertice2 = vertices[pos], vertices[pos + 1]\n",
    "        longitud = matriz[vertice1 - 1][vertice2 - 1]\n",
    "        ciclo.append({ \"e\" : {vertice1, vertice2},\n",
    "                       \"l\" : longitud })\n",
    "        longitud_total += longitud\n",
    "        \n",
    "    # Cerramos el ciclo\n",
    "    longitud = matriz[vertice2 - 1][vertices[0] - 1]\n",
    "    ciclo.append({ \"e\": {vertice2, vertices[0]},\n",
    "                   \"l\": longitud })\n",
    "    longitud_total += longitud\n",
    "    \n",
    "    return ciclo, longitud_total"
   ]
  },
  {
   "cell_type": "code",
   "execution_count": 9,
   "metadata": {},
   "outputs": [],
   "source": [
    "'''\n",
    " Algoritmo del MST para encontrar una buena aproximación a la\n",
    " solución del problema del viajante en un grafo completo no dirigido\n",
    " \n",
    " Entrada:\n",
    "     grafo: adjgraph -> grafo donde buscamos el ciclo óptimo\n",
    "     comienzo: str   -> nodo desde el que comenzamos el MST\n",
    "\n",
    " Salida:\n",
    "     (list, float)   -> tupla formada por la lista de enlaces del \n",
    "                        camino encontrado y su longitud total\n",
    "'''\n",
    "def mst_viajante(grafo: adjgraph, comienzo: str) -> (set, float):\n",
    "    mst, _ = prim(grafo, comienzo)\n",
    "    \n",
    "    vertices = vertices_preorden(mst)\n",
    "    \n",
    "    H, longitud_total = enlaces_tour_viajante(grafo, vertices)\n",
    "    \n",
    "    return H, longitud_total"
   ]
  },
  {
   "cell_type": "markdown",
   "metadata": {},
   "source": [
    "Probamos el algoritmo con el ejemplo anterior, comenzando arbitrariamente en el primer vértice"
   ]
  },
  {
   "cell_type": "code",
   "execution_count": 10,
   "metadata": {},
   "outputs": [
    {
     "data": {
      "text/plain": [
       "([{'e': {1, 2}, 'l': 10},\n",
       "  {'e': {2, 3}, 'l': 35},\n",
       "  {'e': {3, 4}, 'l': 30},\n",
       "  {'e': {1, 4}, 'l': 20}],\n",
       " 95)"
      ]
     },
     "execution_count": 10,
     "metadata": {},
     "output_type": "execute_result"
    }
   ],
   "source": [
    "grafo_tsp_adj = adjgraph(vertices, matriz)\n",
    "\n",
    "mst_viajante(grafo_tsp_adj, vertices[0])"
   ]
  },
  {
   "cell_type": "markdown",
   "metadata": {},
   "source": [
    "Este algoritmo nos proporciona una **aproximación** a la solución óptima, ya que da una solución que no solo depende del grafo en cuestión, sino también del vértice en el que comencemos. Vamos a comprobarlo con el ejemplo anterior:"
   ]
  },
  {
   "cell_type": "code",
   "execution_count": 11,
   "metadata": {},
   "outputs": [
    {
     "data": {
      "text/html": [
       "<html><script type=\"math/tex; mode=display\">\\newcommand{\\Bold}[1]{\\mathbf{#1}}\\left(\\left[\\left\\{\\verb|e| : \\verb|{1,|\\phantom{\\verb!x!}\\verb|2}|, \\verb|l| : 10\\right\\}, \\left\\{\\verb|e| : \\verb|{2,|\\phantom{\\verb!x!}\\verb|3}|, \\verb|l| : 35\\right\\}, \\left\\{\\verb|e| : \\verb|{3,|\\phantom{\\verb!x!}\\verb|4}|, \\verb|l| : 30\\right\\}, \\left\\{\\verb|e| : \\verb|{1,|\\phantom{\\verb!x!}\\verb|4}|, \\verb|l| : 20\\right\\}\\right], 95\\right)</script></html>"
      ],
      "text/plain": [
       "([{'e': {1, 2}, 'l': 10},\n",
       "  {'e': {2, 3}, 'l': 35},\n",
       "  {'e': {3, 4}, 'l': 30},\n",
       "  {'e': {1, 4}, 'l': 20}],\n",
       " 95)"
      ]
     },
     "metadata": {},
     "output_type": "display_data"
    },
    {
     "data": {
      "text/html": [
       "<html><script type=\"math/tex; mode=display\">\\newcommand{\\Bold}[1]{\\mathbf{#1}}\\left(\\left[\\left\\{\\verb|e| : \\verb|{1,|\\phantom{\\verb!x!}\\verb|2}|, \\verb|l| : 10\\right\\}, \\left\\{\\verb|e| : \\verb|{2,|\\phantom{\\verb!x!}\\verb|3}|, \\verb|l| : 35\\right\\}, \\left\\{\\verb|e| : \\verb|{3,|\\phantom{\\verb!x!}\\verb|4}|, \\verb|l| : 30\\right\\}, \\left\\{\\verb|e| : \\verb|{1,|\\phantom{\\verb!x!}\\verb|4}|, \\verb|l| : 20\\right\\}\\right], 95\\right)</script></html>"
      ],
      "text/plain": [
       "([{'e': {1, 2}, 'l': 10},\n",
       "  {'e': {2, 3}, 'l': 35},\n",
       "  {'e': {3, 4}, 'l': 30},\n",
       "  {'e': {1, 4}, 'l': 20}],\n",
       " 95)"
      ]
     },
     "metadata": {},
     "output_type": "display_data"
    },
    {
     "data": {
      "text/html": [
       "<html><script type=\"math/tex; mode=display\">\\newcommand{\\Bold}[1]{\\mathbf{#1}}\\left(\\left[\\left\\{\\verb|e| : \\verb|{1,|\\phantom{\\verb!x!}\\verb|3}|, \\verb|l| : 15\\right\\}, \\left\\{\\verb|e| : \\verb|{2,|\\phantom{\\verb!x!}\\verb|3}|, \\verb|l| : 35\\right\\}, \\left\\{\\verb|e| : \\verb|{2,|\\phantom{\\verb!x!}\\verb|4}|, \\verb|l| : 25\\right\\}, \\left\\{\\verb|e| : \\verb|{1,|\\phantom{\\verb!x!}\\verb|4}|, \\verb|l| : 20\\right\\}\\right], 95\\right)</script></html>"
      ],
      "text/plain": [
       "([{'e': {1, 3}, 'l': 15},\n",
       "  {'e': {2, 3}, 'l': 35},\n",
       "  {'e': {2, 4}, 'l': 25},\n",
       "  {'e': {1, 4}, 'l': 20}],\n",
       " 95)"
      ]
     },
     "metadata": {},
     "output_type": "display_data"
    },
    {
     "data": {
      "text/html": [
       "<html><script type=\"math/tex; mode=display\">\\newcommand{\\Bold}[1]{\\mathbf{#1}}\\left(\\left[\\left\\{\\verb|e| : \\verb|{1,|\\phantom{\\verb!x!}\\verb|4}|, \\verb|l| : 20\\right\\}, \\left\\{\\verb|e| : \\verb|{2,|\\phantom{\\verb!x!}\\verb|4}|, \\verb|l| : 25\\right\\}, \\left\\{\\verb|e| : \\verb|{2,|\\phantom{\\verb!x!}\\verb|3}|, \\verb|l| : 35\\right\\}, \\left\\{\\verb|e| : \\verb|{1,|\\phantom{\\verb!x!}\\verb|3}|, \\verb|l| : 15\\right\\}\\right], 95\\right)</script></html>"
      ],
      "text/plain": [
       "([{'e': {1, 4}, 'l': 20},\n",
       "  {'e': {2, 4}, 'l': 25},\n",
       "  {'e': {2, 3}, 'l': 35},\n",
       "  {'e': {1, 3}, 'l': 15}],\n",
       " 95)"
      ]
     },
     "metadata": {},
     "output_type": "display_data"
    }
   ],
   "source": [
    "for vertice in vertices:\n",
    "    show(mst_viajante(grafo_tsp_adj, vertice))"
   ]
  },
  {
   "cell_type": "markdown",
   "metadata": {},
   "source": [
    "### Como podemos comprobar, el algoritmo no es óptimo ya que nos devuelve ciclos con longitud mayor de la óptima que calculamos antes con el algoritmo ingenuo. De hecho, son EL PEOR camino."
   ]
  },
  {
   "cell_type": "markdown",
   "metadata": {},
   "source": [
    "Vamos a implementar ahora otro algoritmo voraz, el del **vecino más próximo** pero adaptado al TSP (cerrando el ciclo para simular el volver a la ciudad de origen). Este sería su pseudocódigo:\n",
    "\n",
    "<p align=\"center\">\n",
    "  <img src=\"imgs/psc_nn_tsp_tfg.png\">\n",
    "</p>"
   ]
  },
  {
   "cell_type": "code",
   "execution_count": 12,
   "metadata": {},
   "outputs": [],
   "source": [
    "import heapq as hq\n",
    "\n",
    "'''\n",
    " Función que genera los enlaces del grafo que contienen\n",
    " a dicho \"vertice\" y no a los que estén en \"filtro\".\n",
    " \n",
    " Entrada:\n",
    "     matriz: list -> matriz de adyacencias del grafo\n",
    "     vertice: int -> vértice del que buscamos los enlaces\n",
    "     filtro: set  -> conjunto de vértices que no queremos en\n",
    "                     los enlaces\n",
    "\n",
    " Salida:\n",
    "     list -> heap (como una lista) de enlaces \n",
    "             (como tuplas (longitud, enlace))\n",
    "'''\n",
    "def generar_enlaces_filtrados(matriz: list, vertice: int, filtro: set) -> list:\n",
    "    distancias = matriz[vertice - 1]\n",
    "    heap = []\n",
    "    for pos in range(len(distancias)):\n",
    "        vecino = pos + 1\n",
    "        distancia = distancias[pos]\n",
    "        if distancia != inf and vecino not in filtro:\n",
    "            hq.heappush(heap, (distancia, {vertice, vecino}))\n",
    "\n",
    "    return heap"
   ]
  },
  {
   "cell_type": "code",
   "execution_count": 13,
   "metadata": {},
   "outputs": [],
   "source": [
    "'''\n",
    " Función que selecciona el enlace más corto,\n",
    " lo extrae del heap y lo devuelve\n",
    " \n",
    " Entrada:\n",
    "     heap: list -> lista de enlaces con estructura de min heap\n",
    " Salida:\n",
    "     dict -> enlace de la raíz del heap, en forma de diccionario\n",
    "'''\n",
    "def seleccionar_viajante(heap: list) -> dict:\n",
    "    longitud, enlace = hq.heappop(heap)\n",
    "    return { \"e\" : enlace, \"l\" : longitud }"
   ]
  },
  {
   "cell_type": "code",
   "execution_count": 14,
   "metadata": {},
   "outputs": [],
   "source": [
    "'''\n",
    " Algoritmo del vecino más próximo para encontrar una buena aproximación a\n",
    " la solución del problema del viajante en un grafo completo no dirigido\n",
    " \n",
    " Entrada:\n",
    "     grafo: adjgraph -> grafo donde buscamos el ciclo óptimo\n",
    "     comienzo: str   -> nodo desde el que comenzamos el ciclo\n",
    " Salida:\n",
    "     (list, float)   -> tupla formada por la lista de enlaces del \n",
    "                        camino encontrado y su longitud total\n",
    "'''\n",
    "def vecino_proximo_viajante(grafo: adjgraph, comienzo: str) -> (set, float):\n",
    "    longitud_total = 0                 # Longitud total del camino\n",
    "    T = []                             # Lista de enlaces del camino\n",
    "    primero = int(comienzo)            # Vértice en el que comenzamos\n",
    "    n = len(grafo.vertices())          # Número de vértices del grafo\n",
    "    matriz = grafo.matriz()            # Matriz de adyacencias del grafo\n",
    "    vertice_actual = primero           # Vértice en el que estamos\n",
    "    visitados = {primero}              # Conjunto de vértices visitados\n",
    "\n",
    "    # Bucle voraz\n",
    "    for _ in range(n-1):\n",
    "        enlaces = generar_enlaces_filtrados(matriz, vertice_actual, visitados)\n",
    "        enlace_optimo = seleccionar_viajante(enlaces)\n",
    "        T.append(enlace_optimo)\n",
    "        longitud_total += enlace_optimo[\"l\"]\n",
    "        vecino_mas_proximo = (enlace_optimo[\"e\"] - {vertice_actual}).pop()\n",
    "        visitados.add(vecino_mas_proximo)\n",
    "        vertice_actual = vecino_mas_proximo\n",
    "    \n",
    "    # Cerramos el ciclo\n",
    "    longitud = matriz[vertice_actual - 1][primero - 1]\n",
    "    T.append({ \"e\": {vertice_actual, primero},\n",
    "               \"l\": longitud })\n",
    "    longitud_total += longitud\n",
    "    \n",
    "    return T, longitud_total"
   ]
  },
  {
   "cell_type": "markdown",
   "metadata": {},
   "source": [
    "Probamos el algoritmo con el ejemplo anterior, comenzando arbitrariamente en el primer vértice"
   ]
  },
  {
   "cell_type": "code",
   "execution_count": 15,
   "metadata": {},
   "outputs": [
    {
     "data": {
      "text/plain": [
       "([{'e': {1, 2}, 'l': 10},\n",
       "  {'e': {2, 4}, 'l': 25},\n",
       "  {'e': {3, 4}, 'l': 30},\n",
       "  {'e': {1, 3}, 'l': 15}],\n",
       " 80)"
      ]
     },
     "execution_count": 15,
     "metadata": {},
     "output_type": "execute_result"
    }
   ],
   "source": [
    "vecino_proximo_viajante(grafo_tsp_adj, vertices[0])"
   ]
  },
  {
   "cell_type": "markdown",
   "metadata": {},
   "source": [
    "Hemos decidido usar **min heaps** para representar los enlaces generados, teniendo el más corto en la raíz. De este modo, el *seleccionar_viajante()* será la propia raíz. Esto permitirá agilizar este último método, aunque por otro lado haya que crear un heap a cada iteración del bucle voraz, según el vértice que estemos explorando."
   ]
  },
  {
   "cell_type": "markdown",
   "metadata": {},
   "source": [
    "Este algoritmo también nos proporciona una **aproximación** a la solución óptima, ya que da una solución que no solo depende del grafo en cuestión, sino también del vértice en el que comencemos. Vamos a comprobarlo con el ejemplo anterior:"
   ]
  },
  {
   "cell_type": "code",
   "execution_count": 16,
   "metadata": {},
   "outputs": [
    {
     "data": {
      "text/html": [
       "<html><script type=\"math/tex; mode=display\">\\newcommand{\\Bold}[1]{\\mathbf{#1}}\\left(\\left[\\left\\{\\verb|e| : \\verb|{1,|\\phantom{\\verb!x!}\\verb|2}|, \\verb|l| : 10\\right\\}, \\left\\{\\verb|e| : \\verb|{2,|\\phantom{\\verb!x!}\\verb|4}|, \\verb|l| : 25\\right\\}, \\left\\{\\verb|e| : \\verb|{3,|\\phantom{\\verb!x!}\\verb|4}|, \\verb|l| : 30\\right\\}, \\left\\{\\verb|e| : \\verb|{1,|\\phantom{\\verb!x!}\\verb|3}|, \\verb|l| : 15\\right\\}\\right], 80\\right)</script></html>"
      ],
      "text/plain": [
       "([{'e': {1, 2}, 'l': 10},\n",
       "  {'e': {2, 4}, 'l': 25},\n",
       "  {'e': {3, 4}, 'l': 30},\n",
       "  {'e': {1, 3}, 'l': 15}],\n",
       " 80)"
      ]
     },
     "metadata": {},
     "output_type": "display_data"
    },
    {
     "data": {
      "text/html": [
       "<html><script type=\"math/tex; mode=display\">\\newcommand{\\Bold}[1]{\\mathbf{#1}}\\left(\\left[\\left\\{\\verb|e| : \\verb|{1,|\\phantom{\\verb!x!}\\verb|2}|, \\verb|l| : 10\\right\\}, \\left\\{\\verb|e| : \\verb|{1,|\\phantom{\\verb!x!}\\verb|3}|, \\verb|l| : 15\\right\\}, \\left\\{\\verb|e| : \\verb|{3,|\\phantom{\\verb!x!}\\verb|4}|, \\verb|l| : 30\\right\\}, \\left\\{\\verb|e| : \\verb|{2,|\\phantom{\\verb!x!}\\verb|4}|, \\verb|l| : 25\\right\\}\\right], 80\\right)</script></html>"
      ],
      "text/plain": [
       "([{'e': {1, 2}, 'l': 10},\n",
       "  {'e': {1, 3}, 'l': 15},\n",
       "  {'e': {3, 4}, 'l': 30},\n",
       "  {'e': {2, 4}, 'l': 25}],\n",
       " 80)"
      ]
     },
     "metadata": {},
     "output_type": "display_data"
    },
    {
     "data": {
      "text/html": [
       "<html><script type=\"math/tex; mode=display\">\\newcommand{\\Bold}[1]{\\mathbf{#1}}\\left(\\left[\\left\\{\\verb|e| : \\verb|{1,|\\phantom{\\verb!x!}\\verb|3}|, \\verb|l| : 15\\right\\}, \\left\\{\\verb|e| : \\verb|{1,|\\phantom{\\verb!x!}\\verb|2}|, \\verb|l| : 10\\right\\}, \\left\\{\\verb|e| : \\verb|{2,|\\phantom{\\verb!x!}\\verb|4}|, \\verb|l| : 25\\right\\}, \\left\\{\\verb|e| : \\verb|{3,|\\phantom{\\verb!x!}\\verb|4}|, \\verb|l| : 30\\right\\}\\right], 80\\right)</script></html>"
      ],
      "text/plain": [
       "([{'e': {1, 3}, 'l': 15},\n",
       "  {'e': {1, 2}, 'l': 10},\n",
       "  {'e': {2, 4}, 'l': 25},\n",
       "  {'e': {3, 4}, 'l': 30}],\n",
       " 80)"
      ]
     },
     "metadata": {},
     "output_type": "display_data"
    },
    {
     "data": {
      "text/html": [
       "<html><script type=\"math/tex; mode=display\">\\newcommand{\\Bold}[1]{\\mathbf{#1}}\\left(\\left[\\left\\{\\verb|e| : \\verb|{1,|\\phantom{\\verb!x!}\\verb|4}|, \\verb|l| : 20\\right\\}, \\left\\{\\verb|e| : \\verb|{1,|\\phantom{\\verb!x!}\\verb|2}|, \\verb|l| : 10\\right\\}, \\left\\{\\verb|e| : \\verb|{2,|\\phantom{\\verb!x!}\\verb|3}|, \\verb|l| : 35\\right\\}, \\left\\{\\verb|e| : \\verb|{3,|\\phantom{\\verb!x!}\\verb|4}|, \\verb|l| : 30\\right\\}\\right], 95\\right)</script></html>"
      ],
      "text/plain": [
       "([{'e': {1, 4}, 'l': 20},\n",
       "  {'e': {1, 2}, 'l': 10},\n",
       "  {'e': {2, 3}, 'l': 35},\n",
       "  {'e': {3, 4}, 'l': 30}],\n",
       " 95)"
      ]
     },
     "metadata": {},
     "output_type": "display_data"
    }
   ],
   "source": [
    "for vertice in vertices:\n",
    "    show(vecino_proximo_viajante(grafo_tsp_adj, vertice))"
   ]
  },
  {
   "cell_type": "markdown",
   "metadata": {},
   "source": [
    "### Como podemos comprobar, el algoritmo no es óptimo ya que comenzando en el último vértice el algoritmo nos devuelve un ciclo con longitud mayor. De hecho, es EL PEOR camino."
   ]
  },
  {
   "cell_type": "markdown",
   "metadata": {},
   "source": [
    "Vamos ahora a probarlos en un grafo más grande, el de la memoria del TFG\n",
    "\n",
    "<p align=\"center\">\n",
    "  <img src=\"imgs/grafo_ejemplo_tfg_tsp.png\">\n",
    "</p>"
   ]
  },
  {
   "cell_type": "code",
   "execution_count": 17,
   "metadata": {},
   "outputs": [],
   "source": [
    "# Grafo de ejemplo del TFG, representado como adjgraph\n",
    "vertices_tfg = [\"1\",\"2\",\"3\",\"4\",\"5\",\"6\",\"7\",\"8\"]\n",
    "matriz_tfg = [[inf, 4, 2, 4, 4, 2, 5, 5],\n",
    "              [4, inf, 5, 4, 3, 3, 2, 3],\n",
    "              [2, 5, inf, 4, 3, 3, 4, 4],\n",
    "              [4, 4, 4, inf, 3, 5, 2, 3],\n",
    "              [4, 3, 3, 3, inf, 3, 2, 4],\n",
    "              [2, 3, 3, 5, 3, inf, 4, 3],\n",
    "              [5, 2, 4, 2, 2, 4, inf, 3],\n",
    "              [5, 3, 4, 3, 4, 3, 3, inf]]"
   ]
  },
  {
   "cell_type": "code",
   "execution_count": 18,
   "metadata": {},
   "outputs": [
    {
     "data": {
      "text/plain": [
       "([1, 3, 5, 2, 7, 4, 8, 6, 1], 20)"
      ]
     },
     "execution_count": 18,
     "metadata": {},
     "output_type": "execute_result"
    }
   ],
   "source": [
    "algoritmo_ingenuo_viajante(matriz_tfg, vertices_tfg, vertices_tfg[0])"
   ]
  },
  {
   "cell_type": "code",
   "execution_count": 19,
   "metadata": {},
   "outputs": [
    {
     "data": {
      "text/html": [
       "<html><script type=\"math/tex; mode=display\">\\newcommand{\\Bold}[1]{\\mathbf{#1}}\\left(\\left[1, 3, 5, 2, 7, 4, 8, 6, 1\\right], 20\\right)</script></html>"
      ],
      "text/plain": [
       "([1, 3, 5, 2, 7, 4, 8, 6, 1], 20)"
      ]
     },
     "metadata": {},
     "output_type": "display_data"
    },
    {
     "data": {
      "text/html": [
       "<html><script type=\"math/tex; mode=display\">\\newcommand{\\Bold}[1]{\\mathbf{#1}}\\left(\\left[2, 5, 3, 1, 6, 8, 4, 7, 2\\right], 20\\right)</script></html>"
      ],
      "text/plain": [
       "([2, 5, 3, 1, 6, 8, 4, 7, 2], 20)"
      ]
     },
     "metadata": {},
     "output_type": "display_data"
    },
    {
     "data": {
      "text/html": [
       "<html><script type=\"math/tex; mode=display\">\\newcommand{\\Bold}[1]{\\mathbf{#1}}\\left(\\left[3, 1, 6, 2, 8, 4, 7, 5, 3\\right], 20\\right)</script></html>"
      ],
      "text/plain": [
       "([3, 1, 6, 2, 8, 4, 7, 5, 3], 20)"
      ]
     },
     "metadata": {},
     "output_type": "display_data"
    },
    {
     "data": {
      "text/html": [
       "<html><script type=\"math/tex; mode=display\">\\newcommand{\\Bold}[1]{\\mathbf{#1}}\\left(\\left[4, 5, 3, 1, 6, 8, 2, 7, 4\\right], 20\\right)</script></html>"
      ],
      "text/plain": [
       "([4, 5, 3, 1, 6, 8, 2, 7, 4], 20)"
      ]
     },
     "metadata": {},
     "output_type": "display_data"
    },
    {
     "data": {
      "text/html": [
       "<html><script type=\"math/tex; mode=display\">\\newcommand{\\Bold}[1]{\\mathbf{#1}}\\left(\\left[5, 2, 7, 4, 8, 6, 1, 3, 5\\right], 20\\right)</script></html>"
      ],
      "text/plain": [
       "([5, 2, 7, 4, 8, 6, 1, 3, 5], 20)"
      ]
     },
     "metadata": {},
     "output_type": "display_data"
    },
    {
     "data": {
      "text/html": [
       "<html><script type=\"math/tex; mode=display\">\\newcommand{\\Bold}[1]{\\mathbf{#1}}\\left(\\left[6, 1, 3, 5, 2, 7, 4, 8, 6\\right], 20\\right)</script></html>"
      ],
      "text/plain": [
       "([6, 1, 3, 5, 2, 7, 4, 8, 6], 20)"
      ]
     },
     "metadata": {},
     "output_type": "display_data"
    },
    {
     "data": {
      "text/html": [
       "<html><script type=\"math/tex; mode=display\">\\newcommand{\\Bold}[1]{\\mathbf{#1}}\\left(\\left[7, 2, 5, 3, 1, 6, 8, 4, 7\\right], 20\\right)</script></html>"
      ],
      "text/plain": [
       "([7, 2, 5, 3, 1, 6, 8, 4, 7], 20)"
      ]
     },
     "metadata": {},
     "output_type": "display_data"
    },
    {
     "data": {
      "text/html": [
       "<html><script type=\"math/tex; mode=display\">\\newcommand{\\Bold}[1]{\\mathbf{#1}}\\left(\\left[8, 2, 6, 1, 3, 5, 7, 4, 8\\right], 20\\right)</script></html>"
      ],
      "text/plain": [
       "([8, 2, 6, 1, 3, 5, 7, 4, 8], 20)"
      ]
     },
     "metadata": {},
     "output_type": "display_data"
    }
   ],
   "source": [
    "# Este algoritmo, como es de esperar, nos da la misma solución (la óptima) empezando desde cualquier vértice\n",
    "\n",
    "for vertice in vertices_tfg:\n",
    "    show(algoritmo_ingenuo_viajante(matriz_tfg, vertices_tfg, vertice))"
   ]
  },
  {
   "cell_type": "code",
   "execution_count": 20,
   "metadata": {},
   "outputs": [
    {
     "data": {
      "text/plain": [
       "([{'e': {1, 3}, 'l': 2},\n",
       "  {'e': {3, 6}, 'l': 3},\n",
       "  {'e': {2, 6}, 'l': 3},\n",
       "  {'e': {2, 7}, 'l': 2},\n",
       "  {'e': {4, 7}, 'l': 2},\n",
       "  {'e': {4, 5}, 'l': 3},\n",
       "  {'e': {5, 8}, 'l': 4},\n",
       "  {'e': {1, 8}, 'l': 5}],\n",
       " 24)"
      ]
     },
     "execution_count": 20,
     "metadata": {},
     "output_type": "execute_result"
    }
   ],
   "source": [
    "grafo_tsp_adj_tfg = adjgraph(vertices_tfg, matriz_tfg)\n",
    "\n",
    "mst_viajante(grafo_tsp_adj_tfg, vertices_tfg[0])"
   ]
  },
  {
   "cell_type": "code",
   "execution_count": 21,
   "metadata": {},
   "outputs": [
    {
     "data": {
      "text/plain": [
       "([{'e': {1, 3}, 'l': 2},\n",
       "  {'e': {3, 5}, 'l': 3},\n",
       "  {'e': {5, 7}, 'l': 2},\n",
       "  {'e': {2, 7}, 'l': 2},\n",
       "  {'e': {2, 6}, 'l': 3},\n",
       "  {'e': {6, 8}, 'l': 3},\n",
       "  {'e': {4, 8}, 'l': 3},\n",
       "  {'e': {1, 4}, 'l': 4}],\n",
       " 22)"
      ]
     },
     "execution_count": 21,
     "metadata": {},
     "output_type": "execute_result"
    }
   ],
   "source": [
    "vecino_proximo_viajante(grafo_tsp_adj_tfg, vertices_tfg[0])"
   ]
  },
  {
   "cell_type": "markdown",
   "metadata": {},
   "source": [
    "Estos son algunos de los resultados mencionados en la memoria, pero veamos comenzando desde cada vértice, calculando el % de error sobre la solución óptima que ya conocemos:"
   ]
  },
  {
   "cell_type": "code",
   "execution_count": 22,
   "metadata": {},
   "outputs": [],
   "source": [
    "coste_optimo = algoritmo_ingenuo_viajante(matriz_tfg, vertices_tfg, vertices_tfg[0])[-1]\n",
    "errores_mst_viajante, errores_vecino_proximo_viajante = [],[]\n",
    "\n",
    "for vertice in vertices_tfg:\n",
    "    coste_mst_viajante = mst_viajante(grafo_tsp_adj_tfg, vertice)[-1]\n",
    "    error_mst_viajante = float(100*(1 - coste_optimo / coste_mst_viajante))\n",
    "    errores_mst_viajante.append(f\"{error_mst_viajante:.2f}%\")\n",
    "    \n",
    "    coste_vecino_proximo_viajante = vecino_proximo_viajante(grafo_tsp_adj_tfg, vertice)[-1]\n",
    "    error_vecino_proximo_viajante = float(100*(1 - coste_optimo / coste_vecino_proximo_viajante))\n",
    "    errores_vecino_proximo_viajante.append(f\"{error_vecino_proximo_viajante:.2f}%\")"
   ]
  },
  {
   "cell_type": "code",
   "execution_count": 23,
   "metadata": {},
   "outputs": [
    {
     "data": {
      "text/html": [
       "<html><script type=\"math/tex; mode=display\">\\newcommand{\\Bold}[1]{\\mathbf{#1}}\\verb|Errores|\\phantom{\\verb!x!}\\verb|MST|\\phantom{\\verb!x!}\\verb|viajante| \\left[\\verb|16.67%|, \\verb|0.00%|, \\verb|16.67%|, \\verb|0.00%|, \\verb|13.04%|, \\verb|23.08%|, \\verb|0.00%|, \\verb|0.00%|\\right]</script></html>"
      ],
      "text/plain": [
       "'Errores MST viajante' ['16.67%', '0.00%', '16.67%', '0.00%', '13.04%', '23.08%', '0.00%', '0.00%']"
      ]
     },
     "metadata": {},
     "output_type": "display_data"
    },
    {
     "data": {
      "text/html": [
       "<html><script type=\"math/tex; mode=display\">\\newcommand{\\Bold}[1]{\\mathbf{#1}}\\verb|Errores|\\phantom{\\verb!x!}\\verb|Vecino|\\phantom{\\verb!x!}\\verb|Más|\\phantom{\\verb!x!}\\verb|Próximo|\\phantom{\\verb!x!}\\verb|viajante| \\left[\\verb|9.09%|, \\verb|0.00%|, \\verb|9.09%|, \\verb|0.00%|, \\verb|9.09%|, \\verb|9.09%|, \\verb|0.00%|, \\verb|0.00%|\\right]</script></html>"
      ],
      "text/plain": [
       "'Errores Vecino Más Próximo viajante' ['9.09%', '0.00%', '9.09%', '0.00%', '9.09%', '9.09%', '0.00%', '0.00%']"
      ]
     },
     "metadata": {},
     "output_type": "display_data"
    }
   ],
   "source": [
    "show(\"Errores MST viajante\", errores_mst_viajante)\n",
    "show(\"Errores Vecino Más Próximo viajante\", errores_vecino_proximo_viajante)"
   ]
  },
  {
   "cell_type": "markdown",
   "metadata": {},
   "source": [
    "### Como podemos comprobar, en este ejemplo del TFG obtenemos la solución óptima en la mitad de los casos, y en los que no, aproximaciones con errores no peores de lo estimado teóricamente en la memoria. De todos modos, las pruebas deberían realizarse sobre grafos más grandes y aleatorios para ser más determinantes."
   ]
  },
  {
   "cell_type": "markdown",
   "metadata": {},
   "source": [
    "Para terminar el notebook, adicionalmente, vamos a implementar un algoritmo para comprobar si un grafo ponderado no dirigido cumple la desigualdad triangular, ya que como se explica en la memoria del TFG, los dos algoritmos voraces anteriores solo garantizan su nivel de aproximación cuando el grafo cumple esta propiedad."
   ]
  },
  {
   "cell_type": "markdown",
   "metadata": {},
   "source": [
    "## Algoritmo para comprobar que un grafo ponderado no dirigido cumple la desigualdad triangular"
   ]
  },
  {
   "cell_type": "markdown",
   "metadata": {},
   "source": [
    "Básicamente el proceso va a ser:\n",
    "- Generar todos los triángulos del grafo\n",
    "- Comprobar que todos cumplen la desigualdad triangular\n",
    "\n",
    "Vamos a representar los triángulos como diccionarios con:\n",
    "- \"vértices\": conjunto con las etiquetas de sus 3 vértices\n",
    "- \"enlaces\": lista con sus tres enlaces (con nuestro formato anterior de diccionario)\n"
   ]
  },
  {
   "cell_type": "code",
   "execution_count": 24,
   "metadata": {},
   "outputs": [],
   "source": [
    "# Ejemplo de triángulo representado como diccionario\n",
    "triangulo = {\"vertices\": {\"1\",\"2\",\"3\"},\n",
    "              \"enlaces\": [{'e': {1, 2}, 'l': 10},\n",
    "                          {'e': {2, 3}, 'l': 25},\n",
    "                          {'e': {1, 3}, 'l': 30}]}"
   ]
  },
  {
   "cell_type": "code",
   "execution_count": 25,
   "metadata": {},
   "outputs": [],
   "source": [
    "'''\n",
    " Función que recibe un triángulo y comprueba si\n",
    " sus enlaces cumplen la desigualdad triangular\n",
    " \n",
    " Entrada:\n",
    "     triangulo: dict -> diccionario con los vértices\n",
    "                        y enlaces del triángulo\n",
    "\n",
    " Salida:\n",
    "     bool -> Si cumple la desigualdad triangular o no\n",
    "'''\n",
    "def triangulo_cumple_desigualdad_triangular(triangulo: dict) -> bool:\n",
    "    if len(triangulo[\"vertices\"]) != 3:\n",
    "        print(\"Error: Triángulo incorrecto\")\n",
    "        return False\n",
    "    \n",
    "    enlaces = triangulo[\"enlaces\"]\n",
    "    d1, d2, d3 = enlaces[0][\"l\"], enlaces[1][\"l\"], enlaces[2][\"l\"]\n",
    "    return (d1 <= d2 + d3 and d2 <= d1 + d3 and d3 <= d1 + d2)"
   ]
  },
  {
   "cell_type": "code",
   "execution_count": 26,
   "metadata": {},
   "outputs": [],
   "source": [
    "''' \n",
    " Función que crea un enlace accediendo a la matriz\n",
    " de adyacencias por una fila y columna determinadas\n",
    "    \n",
    "Entrada:\n",
    "     matriz: list -> matriz de adyacencias del grafo\n",
    "     fila: int    -> posición del primer vértice del enlace\n",
    "     columna: int -> posición del segundo vértice del enlace\n",
    "\n",
    " Salida:\n",
    "     dict -> enlace creado o None en caso de no existir\n",
    "'''\n",
    "def crear_enlace(matriz: list, fila: int, columna: int) -> dict:\n",
    "    if matriz[fila][columna] != inf:\n",
    "        return {\"e\" : {fila + 1, columna + 1},\n",
    "                \"l\" : matriz[fila][columna]}\n",
    "    else:\n",
    "        return None"
   ]
  },
  {
   "cell_type": "code",
   "execution_count": 27,
   "metadata": {},
   "outputs": [],
   "source": [
    "from itertools import combinations\n",
    "\n",
    "'''\n",
    " Función que genera los triángulos del grafo.\n",
    " \n",
    " Entrada:\n",
    "     grafo: adjgraph -> grafo donde buscamos\n",
    "                        los triángulos\n",
    "\n",
    " Salida:\n",
    "     set -> conjunto de triángulos del grafo\n",
    "'''\n",
    "def generar_triangulos_grafo(grafo: adjgraph) -> list:\n",
    "    matriz = grafo.matriz()      # Matriz de adyacencias del grafo\n",
    "    vertices = grafo.vertices()  # Vertices del grafo\n",
    "    n = len(vertices)\n",
    "    triangulos = []\n",
    "    \n",
    "    for vertice in vertices:\n",
    "        copia_vertices = vertices.copy()\n",
    "        copia_vertices.remove(vertice)\n",
    "        pares = list(combinations(copia_vertices, 2))\n",
    "        pos = int(vertice) - 1\n",
    "        for par in pares:\n",
    "            [pos_v1, pos_v2] = list(map(lambda v: int(v) - 1, par))\n",
    "            verts = {vertice, par[0], par[1]}\n",
    "            if any(map(lambda t: verts == t[\"vertices\"], triangulos)):\n",
    "                continue\n",
    "            triangulo = []\n",
    "            triangulo.append(crear_enlace(matriz, pos_v1, pos_v2))\n",
    "            triangulo.append(crear_enlace(matriz, pos, pos_v1))\n",
    "            triangulo.append(crear_enlace(matriz, pos, pos_v2))\n",
    "            triangulos.append({\"vertices\": verts,\n",
    "                               \"enlaces\": triangulo})\n",
    "\n",
    "    return triangulos"
   ]
  },
  {
   "cell_type": "code",
   "execution_count": 28,
   "metadata": {},
   "outputs": [],
   "source": [
    "'''\n",
    " Función que recibe un grafo y comprueba si\n",
    " cumple la desigualdad triangular\n",
    " \n",
    " Entrada:\n",
    "     grafo: adjgraph -> grafo donde queremos comprobar\n",
    "                        la desigualdad triangular\n",
    "\n",
    " Salida:\n",
    "     bool -> Si cumple la desigualdad triangular o no\n",
    "'''\n",
    "def grafo_cumple_desigualdad_triangular(grafo: adjgraph) -> bool:\n",
    "    triangulos = generar_triangulos_grafo(grafo)\n",
    "    return all(map(triangulo_cumple_desigualdad_triangular, triangulos))"
   ]
  },
  {
   "cell_type": "code",
   "execution_count": 29,
   "metadata": {},
   "outputs": [
    {
     "data": {
      "text/html": [
       "<html><script type=\"math/tex; mode=display\">\\newcommand{\\Bold}[1]{\\mathbf{#1}}\\verb|¿Cumple|\\phantom{\\verb!x!}\\verb|el|\\phantom{\\verb!x!}\\verb|primer|\\phantom{\\verb!x!}\\verb|grafo|\\phantom{\\verb!x!}\\verb|de|\\phantom{\\verb!x!}\\verb|ejemplo|\\phantom{\\verb!x!}\\verb|la|\\phantom{\\verb!x!}\\verb|desigualdad|\\phantom{\\verb!x!}\\verb|triangular?|\\phantom{\\verb!x!}\\verb|False|</script></html>"
      ],
      "text/plain": [
       "'¿Cumple el primer grafo de ejemplo la desigualdad triangular? False'"
      ]
     },
     "metadata": {},
     "output_type": "display_data"
    },
    {
     "data": {
      "text/html": [
       "<html><script type=\"math/tex; mode=display\">\\newcommand{\\Bold}[1]{\\mathbf{#1}}\\verb|¿Cumple|\\phantom{\\verb!x!}\\verb|el|\\phantom{\\verb!x!}\\verb|segundo|\\phantom{\\verb!x!}\\verb|grafo|\\phantom{\\verb!x!}\\verb|de|\\phantom{\\verb!x!}\\verb|ejemplo|\\phantom{\\verb!x!}\\verb|la|\\phantom{\\verb!x!}\\verb|desigualdad|\\phantom{\\verb!x!}\\verb|triangular?|\\phantom{\\verb!x!}\\verb|True|</script></html>"
      ],
      "text/plain": [
       "'¿Cumple el segundo grafo de ejemplo la desigualdad triangular? True'"
      ]
     },
     "metadata": {},
     "output_type": "display_data"
    }
   ],
   "source": [
    "show(f\"¿Cumple el primer grafo de ejemplo la desigualdad triangular? {grafo_cumple_desigualdad_triangular(grafo_tsp_adj)}\")\n",
    "show(f\"¿Cumple el segundo grafo de ejemplo la desigualdad triangular? {grafo_cumple_desigualdad_triangular(grafo_tsp_adj_tfg)}\")"
   ]
  },
  {
   "cell_type": "markdown",
   "metadata": {},
   "source": [
    "### Para el primer grafo era sencillo comprobar que no se cumplía la propiedad, pero en el segundo no es evidente a simple vista, por lo que este algoritmo resulta útil. De todos modos para grafos muy grandes y densos, puede no resultar eficiente."
   ]
  },
  {
   "cell_type": "code",
   "execution_count": null,
   "metadata": {},
   "outputs": [],
   "source": []
  }
 ],
 "metadata": {
  "kernelspec": {
   "display_name": "SageMath 9.0",
   "language": "sage",
   "name": "sagemath"
  },
  "language_info": {
   "codemirror_mode": {
    "name": "ipython",
    "version": 3
   },
   "file_extension": ".py",
   "mimetype": "text/x-python",
   "name": "python",
   "nbconvert_exporter": "python",
   "pygments_lexer": "ipython3",
   "version": "3.7.3"
  }
 },
 "nbformat": 4,
 "nbformat_minor": 2
}
