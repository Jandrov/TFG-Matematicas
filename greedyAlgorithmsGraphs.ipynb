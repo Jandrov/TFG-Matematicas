{
 "cells": [
  {
   "cell_type": "markdown",
   "metadata": {},
   "source": [
    "# Algoritmo de Kruskal / Kruskal algorithm\n",
    "\n",
    "Vamos a implementar el algoritmo de Kruskal\n",
    "\n",
    "<p align=\"center\">\n",
    "  <img src=\"imgs/psc_kruskal_tfg.png\">\n",
    "</p>"
   ]
  },
  {
   "cell_type": "markdown",
   "metadata": {},
   "source": [
    "Aquí vamos a comenzar tratando con **grafos no dirigidos**.\n",
    "\n",
    "La manera de representar el grafo va a ser basada en la clase ***lisgraph*** mencionada en el libro *Fundamentals of algorithmics. Chapter 5: Some data structures (Brassard, G.; Bratley, P.; 1996)*. De ahí generaremos la lista de enlaces y la ordenaremos por longitud ascendente.\n",
    "\n",
    "La clase ***lisgraph*** se basa en un diccionario donde:\n",
    "* Las claves son las etiquetas de los vértices del grafo. Asumimos que son números enteros.\n",
    "* Los valores son listas de tuplas (etiqueta, longitud) donde se representan al vértice vecino y la longitud del enlace que los conecta.\n",
    "\n",
    "Por otro lado, los enlaces vamos a representarlos como diccionarios donde:\n",
    "* Las claves son \"e\" (proviene de \"enlace\") y \"l\" (proviene de \"longitud\")\n",
    "* Los valores son un conjunto {etiqueta1, etiqueta2} para el enlace y un número entero para la longitud"
   ]
  },
  {
   "cell_type": "code",
   "execution_count": 1,
   "metadata": {},
   "outputs": [],
   "source": [
    "# Ejemplo de enlace no dirigido como diccionario\n",
    "a = { \"e\" : {\"1\",\"2\"},\n",
    "      \"l\" : 1 }"
   ]
  },
  {
   "cell_type": "markdown",
   "metadata": {},
   "source": [
    "<p align=\"center\">\n",
    "  <img src=\"imgs/grafo_ejemplo_tfg.png\">\n",
    "</p>"
   ]
  },
  {
   "cell_type": "code",
   "execution_count": 2,
   "metadata": {},
   "outputs": [],
   "source": [
    "# Grafo de ejemplo del TFG, representado como lisgraph\n",
    "g = { \"1\" : [(\"2\", 3), (\"3\", 4), (\"5\", 4)],\n",
    "      \"2\" : [(\"1\", 3), (\"4\", 5)],\n",
    "      \"3\" : [(\"1\", 4), (\"4\", 1), (\"5\", 2), (\"6\", 4)],\n",
    "      \"4\" : [(\"2\", 5), (\"3\", 1), (\"5\", 3), (\"6\", 1)],\n",
    "      \"5\" : [(\"1\", 4), (\"3\", 2), (\"4\", 3)],\n",
    "      \"6\" : [(\"3\", 4), (\"4\", 1)] }"
   ]
  },
  {
   "cell_type": "code",
   "execution_count": 3,
   "metadata": {},
   "outputs": [],
   "source": [
    "'''\n",
    "    Clase que representa un grafo ponderado NO DIRIGIDO \n",
    "    como un diccionario con:\n",
    "    - Las etiquetas de los vértices como claves\n",
    "    - Una lista con tuplas de (etiqueta, longitud) de los vecinos\n",
    "      de dicho vértice y con cada longitud de esos enlaces\n",
    "    Se implementan luego algunos métodos útiles\n",
    "'''\n",
    "\n",
    "class lisgraph(object):\n",
    "    \n",
    "    def __init__(self, grafo_dic=None):\n",
    "        '''\n",
    "            Inicializa un objeto lisgraph.\n",
    "            Si no se pasa el diccionario,\n",
    "            se usará uno vacío.\n",
    "        '''\n",
    "        if grafo_dic == None:\n",
    "            grafo_dic = {}\n",
    "        self.__grafo_dic = grafo_dic\n",
    "\n",
    "    def vertices(self):\n",
    "        ''' Devuelve los vértices del grafo '''\n",
    "        return list(self.__grafo_dic.keys())\n",
    "\n",
    "    def enlaces(self):\n",
    "        ''' Devuelve los enlaces del grafo '''\n",
    "        return self.__generar_enlaces()\n",
    "    \n",
    "    def vecinos(self, vertice):\n",
    "        ''' Devuelve los vecinos de ese vértice '''\n",
    "        return self.__grafo_dic[vertice]\n",
    "\n",
    "    def anadir_vertice(self, vertice):\n",
    "        ''' \n",
    "            Si el vértice \"vertice\" no está en \n",
    "            self.__grafo_dic, una clave \"vertice\" con una\n",
    "            lista vacía como valor es añadida al diccionario. \n",
    "            En otro caso, no debe hacerse nada. \n",
    "        '''\n",
    "        if vertice not in self.__grafo_dic:\n",
    "            self.__grafo_dic[vertice] = []\n",
    "\n",
    "    def anadir_enlace(self, vertice1, vertice2, longitud):\n",
    "        ''' \n",
    "            Aquí como el grafo es no digirido, el orden de \n",
    "            los vértices no es relevante.\n",
    "            Se crea un enlace entre los vértices de longitud \n",
    "            \"longitud\", añadiendo dichos vértices si es\n",
    "            necesario y posible.\n",
    "        '''\n",
    "        self.anadir_vertice(vertice1)\n",
    "        self.anadir_vertice(vertice2)\n",
    "        self.__grafo_dic[vertice1].append((vertice2, longitud))\n",
    "        self.__grafo_dic[vertice2].append((vertice1, longitud))\n",
    "\n",
    "    def __generar_enlaces(self):\n",
    "        ''' \n",
    "            Un método estático que genera los enlaces del\n",
    "            grafo. Los enlaces son representados como \n",
    "            diccionarios con \"e\" (enlace) y \"l\" (longitud)\n",
    "        '''\n",
    "        enlaces = []\n",
    "        for vertice in self.__grafo_dic:\n",
    "            for vecino, longitud in self.__grafo_dic[vertice]:\n",
    "                if {\"e\" : {vecino, vertice},\n",
    "                    \"l\" : longitud} not in enlaces:\n",
    "                    enlaces.append({\"e\" : {vertice, vecino},\n",
    "                                    \"l\" : longitud})\n",
    "        return enlaces\n",
    "\n",
    "    def __str__(self):\n",
    "        res = \"vértices: \"\n",
    "        for k in self.__grafo_dic:\n",
    "            res += str(k) + \" \"\n",
    "        res += \"\\nenlaces: \"\n",
    "        for enlace in self.__generar_enlaces():\n",
    "            res += str(enlace) + \" \"\n",
    "        return res"
   ]
  },
  {
   "cell_type": "code",
   "execution_count": 4,
   "metadata": {},
   "outputs": [],
   "source": [
    "import numpy as np\n",
    "\n",
    "'''\n",
    " Función que ordena la lista de enlaces por longitud ascendente\n",
    " \n",
    " Entrada:\n",
    "     enlaces: list -> lista de enlaces\n",
    " Salida:\n",
    "     list -> Lista de enlaces ordenada\n",
    "'''\n",
    "def ordenar_lista_enlaces(enlaces: list) -> list:\n",
    "    return sorted(enlaces, key=lambda x: x[\"l\"])"
   ]
  },
  {
   "cell_type": "code",
   "execution_count": 5,
   "metadata": {},
   "outputs": [],
   "source": [
    "'''\n",
    " Función que selecciona el enlace más corto,\n",
    " lo extrae de la lista de enlaces y lo devuelve\n",
    " \n",
    " Entrada:\n",
    "     enlaces: list -> lista de enlaces ya ordenada\n",
    " Salida:\n",
    "     dict -> enlace (como diccionario) de la primera\n",
    "             posición de la lista\n",
    "'''\n",
    "def seleccionar_kruskal(enlaces: list) -> dict:\n",
    "    return enlaces.pop(0)"
   ]
  },
  {
   "cell_type": "code",
   "execution_count": 6,
   "metadata": {},
   "outputs": [],
   "source": [
    "'''\n",
    " Función que busca la componente que contiene al \n",
    " vértice v y la devuelve\n",
    " \n",
    " Entrada:\n",
    "     bosque: list -> bosque que contiene todas las\n",
    "                     componentes\n",
    "     v: str -> vértice a buscar\n",
    " Salida:\n",
    "     set -> componente (en forma de conjunto) donde\n",
    "            se encuentra el vértice v\n",
    "'''\n",
    "def encontrar(bosque: list, v: str) -> set:\n",
    "    for comp in bosque:\n",
    "        if v in comp:\n",
    "            return comp"
   ]
  },
  {
   "cell_type": "code",
   "execution_count": 7,
   "metadata": {},
   "outputs": [],
   "source": [
    "'''\n",
    " Función que combina dos componentes en un bosque\n",
    " \n",
    " Entrada:\n",
    "     bosque: list -> bosque que contiene todas las\n",
    "                     componentes\n",
    "     comp1: set   -> primera componente\n",
    "     comp2: set   -> segunda componente\n",
    " Salida:\n",
    "     Nada\n",
    "'''\n",
    "def combinar(bosque: list, comp1: set, comp2: set):\n",
    "    bosque.remove(comp1)\n",
    "    bosque.remove(comp2)\n",
    "    bosque.append(comp1.union(comp2))"
   ]
  },
  {
   "cell_type": "code",
   "execution_count": 8,
   "metadata": {},
   "outputs": [],
   "source": [
    "'''\n",
    " Algoritmo de Kruskal para encontrar el árbol recubridor mínimo\n",
    " en un grafo conexo no dirigido\n",
    " \n",
    " Entrada:\n",
    "     grafo: lisgraph -> grafo donde buscamos el árbol recubridor\n",
    "                        mínimo\n",
    " Salida:\n",
    "     (list, float) -> tupla formada por la lista de enlaces del \n",
    "                      árbol recubridor mínimo y su longitud total\n",
    "'''\n",
    "def kruskal(grafo: lisgraph) -> (list, float):\n",
    "    longitud_total = 0                # Longitud total del MST\n",
    "    T = []                            # Lista de enlaces del MST\n",
    "    \n",
    "    # Inicializamos un conjunto por cada vértice del grafo\n",
    "    bosque = [{vertice} for vertice in grafo.vertices()] \n",
    "    n = len(bosque)                   # Número de vértices del grafo\n",
    "    \n",
    "    # Generamos la lista ordenada de enlaces\n",
    "    enlaces_ordenados = ordenar_lista_enlaces(grafo.enlaces())\n",
    "    \n",
    "    while len(T) < n-1:\n",
    "        e_optimo = seleccionar_kruskal(enlaces_ordenados)\n",
    "        (u, v) = e_optimo[\"e\"]\n",
    "        ucomp, vcomp = encontrar(bosque, u), encontrar(bosque, v)\n",
    "        if ucomp != vcomp:\n",
    "            combinar(bosque, ucomp, vcomp)\n",
    "            T.append(e_optimo)\n",
    "            longitud_total += e_optimo[\"l\"]\n",
    "    \n",
    "    return T, longitud_total"
   ]
  },
  {
   "cell_type": "markdown",
   "metadata": {},
   "source": [
    "Probamos el algoritmo con el ejemplo de antes"
   ]
  },
  {
   "cell_type": "code",
   "execution_count": 9,
   "metadata": {},
   "outputs": [
    {
     "data": {
      "text/plain": [
       "([{'e': {'3', '4'}, 'l': 1},\n",
       "  {'e': {'4', '6'}, 'l': 1},\n",
       "  {'e': {'3', '5'}, 'l': 2},\n",
       "  {'e': {'1', '2'}, 'l': 3},\n",
       "  {'e': {'1', '3'}, 'l': 4}],\n",
       " 11)"
      ]
     },
     "execution_count": 9,
     "metadata": {},
     "output_type": "execute_result"
    }
   ],
   "source": [
    "grafo_tfg_lis = lisgraph(g)\n",
    "\n",
    "kruskal(grafo_tfg_lis)"
   ]
  },
  {
   "cell_type": "markdown",
   "metadata": {},
   "source": [
    "<p align=\"center\">\n",
    "  <img src=\"imgs/mst_tfg_grafos.png\">\n",
    "</p>"
   ]
  },
  {
   "cell_type": "markdown",
   "metadata": {},
   "source": [
    "Ahora vamos a implementar la versión donde usamos **min heaps** para representar los enlaces, teniendo el más corto en la raíz. De este modo, el *seleccionar()* será la propia raíz."
   ]
  },
  {
   "cell_type": "code",
   "execution_count": 10,
   "metadata": {},
   "outputs": [],
   "source": [
    "import heapq as hq\n",
    "\n",
    "'''\n",
    " Función que crea un min heap según la longitud \n",
    " de los enlaces\n",
    " \n",
    " Entrada:\n",
    "     enlaces: list -> lista de enlaces\n",
    " Salida:\n",
    "     list -> heap (como una lista) de enlaces \n",
    "             (como tuplas (longitud, enlace))\n",
    "'''\n",
    "def crear_min_heap(enlaces: list) -> list:\n",
    "    heap = []\n",
    "    for enlace in enlaces:\n",
    "        hq.heappush(heap, (enlace[\"l\"], enlace[\"e\"]))\n",
    "    return heap"
   ]
  },
  {
   "cell_type": "code",
   "execution_count": 11,
   "metadata": {},
   "outputs": [],
   "source": [
    "'''\n",
    " Función que selecciona el enlace más corto,\n",
    " lo extrae del heap y lo devuelve\n",
    " \n",
    " Entrada:\n",
    "     heap: list -> lista de enlaces con estructura de min heap\n",
    " Salida:\n",
    "     dict -> enlace de la raíz del heap, en forma de diccionario\n",
    "'''\n",
    "def seleccionar_kruskal_heaps(heap: list) -> dict:\n",
    "    longitud, enlace = hq.heappop(heap)\n",
    "    return { \"e\" : enlace, \"l\" : longitud }"
   ]
  },
  {
   "cell_type": "code",
   "execution_count": 12,
   "metadata": {},
   "outputs": [],
   "source": [
    "'''\n",
    " Algoritmo de Kruskal para encontrar el árbol recubridor mínimo\n",
    " en un grafo conexo no dirigido, usando un heap para representar\n",
    " la lista de enlaces\n",
    " \n",
    " Entrada:\n",
    "     grafo: lisgraph -> grafo donde buscamos el árbol recubridor\n",
    "                        mínimo\n",
    " Salida:\n",
    "     (list, float) -> tupla formada por la lista de enlaces del \n",
    "                      árbol recubridor mínimo y su longitud total\n",
    "'''\n",
    "def kruskal_heaps(grafo: lisgraph) -> (list, float):\n",
    "    longitud_total = 0                # Longitud total del MST\n",
    "    T = []                            # Lista de enlaces del MST\n",
    "    \n",
    "    # Inicializamos un conjunto por cada vértice del grafo\n",
    "    bosque = [{vertice} for vertice in grafo.vertices()] \n",
    "    n = len(bosque)                   # Número de vértices del grafo\n",
    "    \n",
    "    # Generamos el min heap de enlaces\n",
    "    heap = crear_min_heap(grafo.enlaces())\n",
    "\n",
    "    while len(T) < n-1:\n",
    "        e_optimo = seleccionar_kruskal_heaps(heap)\n",
    "        (u, v) = e_optimo[\"e\"]\n",
    "        ucomp, vcomp = encontrar(bosque, u), encontrar(bosque, v)\n",
    "        if ucomp != vcomp:\n",
    "            combinar(bosque, ucomp, vcomp)\n",
    "            T.append(e_optimo)\n",
    "            longitud_total += e_optimo[\"l\"]\n",
    "\n",
    "    return T, longitud_total"
   ]
  },
  {
   "cell_type": "markdown",
   "metadata": {},
   "source": [
    "Volvemos a probar el algoritmo con el ejemplo anterior"
   ]
  },
  {
   "cell_type": "code",
   "execution_count": 13,
   "metadata": {},
   "outputs": [
    {
     "data": {
      "text/plain": [
       "([{'e': {'3', '4'}, 'l': 1},\n",
       "  {'e': {'4', '6'}, 'l': 1},\n",
       "  {'e': {'3', '5'}, 'l': 2},\n",
       "  {'e': {'1', '2'}, 'l': 3},\n",
       "  {'e': {'1', '5'}, 'l': 4}],\n",
       " 11)"
      ]
     },
     "execution_count": 13,
     "metadata": {},
     "output_type": "execute_result"
    }
   ],
   "source": [
    "kruskal_heaps(grafo_tfg_lis)"
   ]
  },
  {
   "cell_type": "markdown",
   "metadata": {},
   "source": [
    "Vemos que el árbol recubridor mínimo cambia en un enlace, pero es igual de óptimo que el otro ya que mantiene la longitud total. Vamos a hacer una pequeña comparación de tiempos entre ambos modos de implementar el algoritmo"
   ]
  },
  {
   "cell_type": "code",
   "execution_count": 14,
   "metadata": {},
   "outputs": [],
   "source": [
    "import timeit as t\n",
    "\n",
    "# Encapsulamos los algoritmos en unas funciones sin argumentos para usar luego el módulo timeit\n",
    "def test_kruskal():\n",
    "    kruskal(grafo_tfg_lis)\n",
    "    \n",
    "def test_kruskal_heaps():\n",
    "    kruskal_heaps(grafo_tfg_lis)"
   ]
  },
  {
   "cell_type": "markdown",
   "metadata": {},
   "source": [
    "Vamos a realizar por ahora solo 10000 pruebas donde ejecutamos 100 veces cada algoritmo, para hacer una estadística rápida (también mediremos el tiempo de ejecución completo de la batería de pruebas con el *magic command* **%time**, para una primera comparación)"
   ]
  },
  {
   "cell_type": "code",
   "execution_count": 15,
   "metadata": {},
   "outputs": [
    {
     "name": "stdout",
     "output_type": "stream",
     "text": [
      "CPU times: user 30.7 s, sys: 62 ms, total: 30.8 s\n",
      "Wall time: 32.6 s\n"
     ]
    }
   ],
   "source": [
    "# Ejecutado en mi ordenador, el tiempo aproximado de la celda son unos 30 segundos\n",
    "%time tiempos_kruskal = t.repeat(test_kruskal, repeat=10000, number=100)"
   ]
  },
  {
   "cell_type": "code",
   "execution_count": 16,
   "metadata": {},
   "outputs": [
    {
     "name": "stdout",
     "output_type": "stream",
     "text": [
      "CPU times: user 33.4 s, sys: 31 ms, total: 33.4 s\n",
      "Wall time: 33.6 s\n"
     ]
    }
   ],
   "source": [
    "# Ejecutado en mi ordenador, el tiempo aproximado de la celda son unos 35 segundos\n",
    "%time tiempos_kruskal_heaps = t.repeat(test_kruskal_heaps, repeat=10000, number=100)"
   ]
  },
  {
   "cell_type": "markdown",
   "metadata": {},
   "source": [
    "Imprimamos solo los 10 primeros resultados de cada test, por mostrar el orden de los tiempos:"
   ]
  },
  {
   "cell_type": "code",
   "execution_count": 17,
   "metadata": {},
   "outputs": [
    {
     "data": {
      "text/html": [
       "<html><script type=\"math/tex; mode=display\">\\newcommand{\\Bold}[1]{\\mathbf{#1}}\\verb|Tiempos|\\phantom{\\verb!x!}\\verb|Kruskal| \\left[0.0029235000256448984, 0.0028852999676018953, 0.002914800017606467, 0.003541500016581267, 0.003132999991066754, 0.0028870999813079834, 0.002879599982406944, 0.002912700001616031, 0.0036557999555952847, 0.003097900014836341\\right]</script></html>"
      ],
      "text/plain": [
       "'Tiempos Kruskal' [0.0029235000256448984,\n",
       " 0.0028852999676018953,\n",
       " 0.002914800017606467,\n",
       " 0.003541500016581267,\n",
       " 0.003132999991066754,\n",
       " 0.0028870999813079834,\n",
       " 0.002879599982406944,\n",
       " 0.002912700001616031,\n",
       " 0.0036557999555952847,\n",
       " 0.003097900014836341]"
      ]
     },
     "metadata": {},
     "output_type": "display_data"
    },
    {
     "data": {
      "text/html": [
       "<html><script type=\"math/tex; mode=display\">\\newcommand{\\Bold}[1]{\\mathbf{#1}}\\verb|Tiempos|\\phantom{\\verb!x!}\\verb|Kruskal|\\phantom{\\verb!x!}\\verb|heaps| \\left[0.006076799996662885, 0.0033681000350043178, 0.004047000024002045, 0.0038690000073984265, 0.003889799991156906, 0.004147099971305579, 0.004475900030229241, 0.0032955999486148357, 0.003734799975063652, 0.003285299986600876\\right]</script></html>"
      ],
      "text/plain": [
       "'Tiempos Kruskal heaps' [0.006076799996662885,\n",
       " 0.0033681000350043178,\n",
       " 0.004047000024002045,\n",
       " 0.0038690000073984265,\n",
       " 0.003889799991156906,\n",
       " 0.004147099971305579,\n",
       " 0.004475900030229241,\n",
       " 0.0032955999486148357,\n",
       " 0.003734799975063652,\n",
       " 0.003285299986600876]"
      ]
     },
     "metadata": {},
     "output_type": "display_data"
    }
   ],
   "source": [
    "show(\"Tiempos Kruskal\", tiempos_kruskal[:10])\n",
    "show(\"Tiempos Kruskal heaps\", tiempos_kruskal_heaps[:10])"
   ]
  },
  {
   "cell_type": "code",
   "execution_count": 18,
   "metadata": {},
   "outputs": [
    {
     "data": {
      "text/html": [
       "<html><script type=\"math/tex; mode=display\">\\newcommand{\\Bold}[1]{\\mathbf{#1}}\\verb|En|\\phantom{\\verb!x!}\\verb|la|\\phantom{\\verb!x!}\\verb|prueba|\\phantom{\\verb!x!}\\verb|hay|\\phantom{\\verb!x!}\\verb|1909|\\phantom{\\verb!x!}\\verb|veces|\\phantom{\\verb!x!}\\verb|que|\\phantom{\\verb!x!}\\verb|es|\\phantom{\\verb!x!}\\verb|mejor|\\phantom{\\verb!x!}\\verb|usar|\\phantom{\\verb!x!}\\verb|heaps|\\phantom{\\verb!x!}\\verb|y|\\phantom{\\verb!x!}\\verb|8091|\\phantom{\\verb!x!}\\verb|que|\\phantom{\\verb!x!}\\verb|no|</script></html>"
      ],
      "text/plain": [
       "'En la prueba hay 1909 veces que es mejor usar heaps y 8091 que no'"
      ]
     },
     "metadata": {},
     "output_type": "display_data"
    }
   ],
   "source": [
    "heaps = 0\n",
    "for i in range(len(tiempos_kruskal)):\n",
    "    if tiempos_kruskal[i] > tiempos_kruskal_heaps[i]:\n",
    "        heaps += 1\n",
    "\n",
    "show(f\"En la prueba hay {heaps} veces que es mejor usar heaps y {i-heaps+1} que no\")"
   ]
  },
  {
   "cell_type": "markdown",
   "metadata": {},
   "source": [
    "### En conclusión, parece que en el ejemplo del TFG solo alrededor del 15-20% de las veces es mejor usar heaps. Sin embargo, estas pruebas deberían realizarse con grafos más aleatorios y mayor número de ejecuciones"
   ]
  },
  {
   "cell_type": "markdown",
   "metadata": {},
   "source": [
    "# Algoritmo de Prim / Prim algorithm\n",
    "\n",
    "Vamos a implementar el algoritmo de Prim\n",
    "\n",
    "<p align=\"center\">\n",
    "  <img src=\"imgs/psc_prim_tfg.png\">\n",
    "</p>"
   ]
  },
  {
   "cell_type": "markdown",
   "metadata": {},
   "source": [
    "La manera de representar el grafo va a ser basada en la clase ***adjgraph*** mencionada en el libro.\n",
    "\n",
    "La clase ***adjgraph*** contiene:\n",
    "* Una lista de vértices, cada uno representado por su etiqueta. Asumimos que son números enteros y ordenados del 1 en adelante.\n",
    "* Una matriz de adyacencias (i.e., una lista de listas) cuadrada y simétrica que contiene en su casilla [i,j] la longitud del enlace que conecta dichos vértices, o infinito (_math.inf_) en caso de no estar conectados"
   ]
  },
  {
   "cell_type": "code",
   "execution_count": 58,
   "metadata": {},
   "outputs": [],
   "source": [
    "from math import inf\n",
    "\n",
    "# Grafo de ejemplo del TFG, representado como adjgraph\n",
    "vertices = [\"1\",\"2\",\"3\",\"4\",\"5\",\"6\"]\n",
    "matriz = [[inf, 3, 4, inf, 4, inf],\n",
    "          [3, inf, inf, 5, inf, inf],\n",
    "          [4, inf, inf, 1, 2, 4],\n",
    "          [inf, 5, 1, inf, 3, 1],\n",
    "          [4, inf, 2, 3, inf, inf],\n",
    "          [inf, inf, 4, 1, inf, inf]]"
   ]
  },
  {
   "cell_type": "code",
   "execution_count": 20,
   "metadata": {},
   "outputs": [],
   "source": [
    "'''\n",
    "    Clase que representa un grafo ponderado NO DIRIGIDO\n",
    "    de n vértices como:\n",
    "    - Una lista con las etiquetas de los vértices (ordenados\n",
    "      de 1 a n)\n",
    "    - Una matriz de adyacencias simétrica con la longitud de cada\n",
    "      enlace e infinito en los enlaces que no existan\n",
    "    Se implementan luego algunos métodos útiles\n",
    "'''\n",
    "\n",
    "class adjgraph(object):\n",
    "    \n",
    "    def __init__(self, vertices=None, matriz=None):\n",
    "        '''\n",
    "            Inicializa un objeto adjgraph.\n",
    "            Si no se pasan la matriz o los vértices,\n",
    "            se usarán unos vacíos.\n",
    "        '''\n",
    "        if vertices == None:\n",
    "            vertices = []\n",
    "        if matriz == None:\n",
    "            matriz = []\n",
    "        self.__vertices = vertices\n",
    "        self.__matriz = matriz\n",
    "\n",
    "    def vertices(self):\n",
    "        ''' Devuelve los vértices del grafo '''\n",
    "        return self.__vertices\n",
    "    \n",
    "    def matriz(self):\n",
    "        ''' Devuelve la matriz de adyacencias del grafo '''\n",
    "        return self.__matriz\n",
    "\n",
    "    def enlaces(self, vertice=None):\n",
    "        ''' \n",
    "            Devuelve los enlaces del grafo. \n",
    "            Si se pasa un vértice como argumento,\n",
    "            se devuelven los enlaces que contienen\n",
    "            a dicho vértice. Si no, se devuelven\n",
    "            todos los enlaces del grafo\n",
    "        '''\n",
    "        return self.__generar_enlaces(vertice)\n",
    "\n",
    "    def anadir_vertice(self, vertice):\n",
    "        ''' \n",
    "            Si el vértice \"vertice\" no está en \n",
    "            self.__vertices, se añade a la lista al\n",
    "            final (debe ser el vértice n+1 tal y como\n",
    "            hemos definido los vértices en este grafo)\n",
    "            se añade en la matriz de enlaces con inf,\n",
    "            y se devuelve True\n",
    "            En otro caso, devuelve False. \n",
    "        '''\n",
    "        if vertice not in self.__vertices:\n",
    "            num_v = len(self.__vertices)\n",
    "            if int(vertice) == num_v+1:\n",
    "                self.__vertices.append(vertice)\n",
    "                for lista in self.__matriz:\n",
    "                    lista.append(inf)\n",
    "                self.__matriz.append([inf]*(num_v+1))\n",
    "                return True\n",
    "        return False\n",
    "\n",
    "    def anadir_enlace(self, vertice1, vertice2, longitud):\n",
    "        ''' \n",
    "            Aquí como el grafo es no digirido, el orden de \n",
    "            los vértices solo es relevante a la hora de\n",
    "            insertar los nuevos vértices en orden.\n",
    "            Se crea un enlace entre los vértices de longitud \n",
    "            \"longitud\", añadiendo dichos vértices si es\n",
    "            necesario y posible.\n",
    "        '''\n",
    "        indice1, indice2 = int(vertice1), int(vertice2)\n",
    "        if vertice1 in self.__vertices and vertice2 in self.__vertices:\n",
    "            i, j = indice1-1, indice2-1 \n",
    "            if self.__matriz[i][j] == inf:\n",
    "                self.__matriz[i][j] = longitud\n",
    "                self.__matriz[j][i] = longitud\n",
    "        elif vertice1 in self.__vertices:\n",
    "            if self.anadir_vertice(vertice2):\n",
    "                i, j = indice1-1, indice2-1 \n",
    "                self.__matriz[i][j] = longitud\n",
    "                self.__matriz[j][i] = longitud\n",
    "        else:\n",
    "            if abs(indice1-indice2) == 1:\n",
    "                if self.anadir_vertice(vertice1):\n",
    "                    self.anadir_vertice(vertice2)\n",
    "                elif self.anadir_vertice(vertice2):\n",
    "                    self.anadir_vertice(vertice1)\n",
    "                else:\n",
    "                    return\n",
    "                i, j = indice1-1, indice2-1 \n",
    "                self.__matriz[i][j] = longitud\n",
    "                self.__matriz[j][i] = longitud\n",
    "                    \n",
    "\n",
    "    def __generar_enlaces(self, vertice=None):\n",
    "        ''' \n",
    "            Un método estático que genera los enlaces del\n",
    "            grafo. Si se pasa un vértice como argumento,\n",
    "            se generan los enlaces que contienen\n",
    "            a dicho vértice. Si no, se generan todos.\n",
    "            Los enlaces son representados como \n",
    "            diccionarios con \"e\" (enlace) y \"l\" (longitud)\n",
    "        '''\n",
    "        enlaces = []\n",
    "        n = len(self.__vertices)\n",
    "        if vertice is None:\n",
    "            for i in range(n):\n",
    "                for j in range(i, n):\n",
    "                    enlace = self.__crear_enlace(i, j)\n",
    "                    if enlace is not None:\n",
    "                        enlaces.append(enlace)\n",
    "                    \n",
    "        else:\n",
    "            j = int(vertice - 1)\n",
    "            for i in range(n):\n",
    "                enlace = self.__crear_enlace(i, j)\n",
    "                if enlace is not None:\n",
    "                    enlaces.append(enlace)\n",
    "                        \n",
    "        return enlaces\n",
    "    \n",
    "    def __crear_enlace(self, fila, columna):\n",
    "        ''' \n",
    "            Un método estático que crea un enlace\n",
    "            accediendo a la matriz de adyacencias\n",
    "            por una fila y columna determinadas\n",
    "        '''\n",
    "        if self.__matriz[fila][columna] != inf:\n",
    "            return {\"e\" : {fila + 1, columna + 1},\n",
    "                    \"l\" : self.__matriz[fila][columna]}\n",
    "        else:\n",
    "            return None\n",
    "\n",
    "    def __str__(self):\n",
    "        res = \"vértices: \"\n",
    "        for k in self.__vertices:\n",
    "            res += k + \" \"\n",
    "        res += \"\\nenlaces: \"\n",
    "        for enlace in self.__generar_enlaces():\n",
    "            res += str(enlace) + \" \"\n",
    "        return res"
   ]
  },
  {
   "cell_type": "code",
   "execution_count": 21,
   "metadata": {},
   "outputs": [],
   "source": [
    "'''\n",
    " Algoritmo de Prim para encontrar el árbol recubridor mínimo\n",
    " en un grafo conexo no dirigido\n",
    " \n",
    " Entrada:\n",
    "     grafo: adjgraph -> grafo donde buscamos el árbol recubridor\n",
    "                        mínimo\n",
    " Salida:\n",
    "     (list, float) -> tupla formada por la lista de enlaces del \n",
    "                      árbol recubridor mínimo y su longitud total\n",
    "'''\n",
    "def prim(grafo: adjgraph) -> (set, float):\n",
    "    longitud_total = 0                 # Longitud total del MST\n",
    "    T = []                             # Lista de enlaces del MST\n",
    "    primero = int(grafo.vertices()[0]) # Asumimos comenzar por el primer vértice\n",
    "    n = len(grafo.vertices())          # Número de vértices del grafo\n",
    "    matriz = grafo.matriz()            # Matriz de adyacencias del grafo\n",
    "    \n",
    "    # Inicializamos nuestros arrays según el vértice por el que empezamos\n",
    "    mas_cercano = [primero] * n                 \n",
    "    dist_min = [-1]\n",
    "    for i in range(1, n):\n",
    "        dist_min.append(matriz[i][primero - 1])\n",
    "\n",
    "    for _ in range(n-1):\n",
    "        min = inf\n",
    "        for j in range(1, n):\n",
    "            if 0 <= dist_min[j] and dist_min[j] < min:\n",
    "                min = dist_min[j]\n",
    "                k = j\n",
    "        T.append({ \"e\" : {mas_cercano[k], k + 1},\n",
    "                   \"l\" : min })\n",
    "        longitud_total += min\n",
    "        dist_min[k] = -1\n",
    "        for j in range(1, n):\n",
    "            if matriz[j][k] < dist_min[j]:\n",
    "                dist_min[j] = matriz[j][k]\n",
    "                mas_cercano[j] = k + 1\n",
    "    \n",
    "    return T, longitud_total"
   ]
  },
  {
   "cell_type": "markdown",
   "metadata": {},
   "source": [
    "Probamos el algoritmo con el ejemplo anterior"
   ]
  },
  {
   "cell_type": "code",
   "execution_count": 22,
   "metadata": {},
   "outputs": [
    {
     "data": {
      "text/plain": [
       "([{'e': {1, 2}, 'l': 3},\n",
       "  {'e': {1, 3}, 'l': 4},\n",
       "  {'e': {3, 4}, 'l': 1},\n",
       "  {'e': {4, 6}, 'l': 1},\n",
       "  {'e': {3, 5}, 'l': 2}],\n",
       " 11)"
      ]
     },
     "execution_count": 22,
     "metadata": {},
     "output_type": "execute_result"
    }
   ],
   "source": [
    "grafo_tfg_adj = adjgraph(vertices, matriz)\n",
    "\n",
    "prim(grafo_tfg_adj)"
   ]
  },
  {
   "cell_type": "markdown",
   "metadata": {},
   "source": [
    "Podemos observar que conseguimos el mismo MST que conseguimos con Kruskal la primera vez.\n",
    "\n",
    "Ahora vamos a implementar la versión donde usamos **min heaps** para representar los enlaces, teniendo el más corto en la raíz. De este modo, el *seleccionar()* será la propia raíz. De todos modos, esta vez no vamos a implementar otro *seleccionar()* y usaremos el propio *heapq.heappop()*\n",
    "\n",
    "Para este caso parece óptimo usar la clase *lisgraph* de nuevo en lugar de seguir con *adjgraph*, ya que la idea no es crear el heap desde el comienzo sino irlo creando paso a paso añadiendo los enlaces de los vecinos del nodo a considerar"
   ]
  },
  {
   "cell_type": "code",
   "execution_count": 23,
   "metadata": {},
   "outputs": [],
   "source": [
    "'''\n",
    " Algoritmo de Prim para encontrar el árbol recubridor mínimo\n",
    " en un grafo conexo no dirigido, usando un heap para representar\n",
    " la lista de enlaces sin explorar\n",
    " \n",
    " Entrada:\n",
    "     grafo: lisgraph -> grafo donde buscamos el árbol recubridor\n",
    "                        mínimo\n",
    " Salida:\n",
    "     (list, float) -> tupla formada por la lista de enlaces del \n",
    "                      árbol recubridor mínimo y su longitud total\n",
    "'''\n",
    "\n",
    "def prim_heaps_lis(grafo: lisgraph) -> (list, float):\n",
    "    longitud_total = 0                # Longitud total del MST\n",
    "    explorados = set()                # Conjunto de vértices del MST\n",
    "    primero = grafo.vertices()[0]     # Asumimos comenzar por el primer vértice\n",
    "    T = []                            # Lista de enlaces del MST\n",
    "    \n",
    "    # Enlaces no explorados ordenados por longitud (será nuestro heap)\n",
    "    no_explorados = [(0, primero)]   \n",
    "    \n",
    "    while no_explorados:\n",
    "        longitud, ganador = hq.heappop(no_explorados)\n",
    "        if explorados:\n",
    "            (vertice1, vertice2) = tuple(ganador)\n",
    "            if vertice1 not in explorados:\n",
    "                nuevo_vertice = vertice1\n",
    "                T.append({ \"e\" : ganador, \n",
    "                           \"l\" : longitud })\n",
    "            elif vertice2 not in explorados:\n",
    "                nuevo_vertice = vertice2\n",
    "                T.append({ \"e\" : ganador, \n",
    "                           \"l\" : longitud })\n",
    "            else:\n",
    "                continue\n",
    "        else: \n",
    "            nuevo_vertice = ganador\n",
    "        explorados.add(nuevo_vertice)\n",
    "        longitud_total += longitud\n",
    "        vecinos = grafo.vecinos(nuevo_vertice)\n",
    "        for vecino, longitud in vecinos:\n",
    "            if vecino not in explorados:\n",
    "                hq.heappush(no_explorados, (longitud, {nuevo_vertice, vecino}))\n",
    "    return T, longitud_total"
   ]
  },
  {
   "cell_type": "markdown",
   "metadata": {},
   "source": [
    "Volvemos a probar el algoritmo con el mismo ejemplo"
   ]
  },
  {
   "cell_type": "code",
   "execution_count": 24,
   "metadata": {},
   "outputs": [
    {
     "data": {
      "text/plain": [
       "([{'e': {'1', '2'}, 'l': 3},\n",
       "  {'e': {'1', '3'}, 'l': 4},\n",
       "  {'e': {'3', '4'}, 'l': 1},\n",
       "  {'e': {'4', '6'}, 'l': 1},\n",
       "  {'e': {'3', '5'}, 'l': 2}],\n",
       " 11)"
      ]
     },
     "execution_count": 24,
     "metadata": {},
     "output_type": "execute_result"
    }
   ],
   "source": [
    "prim_heaps_lis(grafo_tfg_lis)"
   ]
  },
  {
   "cell_type": "markdown",
   "metadata": {},
   "source": [
    "Obtenemos el mismo MST.\n",
    "\n",
    "Vamos a hacer una pequeña comparación de tiempos entre ambos modos de implementar el algoritmo, tal y como hicimos antes"
   ]
  },
  {
   "cell_type": "code",
   "execution_count": 25,
   "metadata": {},
   "outputs": [],
   "source": [
    "def test_prim():\n",
    "    prim(grafo_tfg_adj)\n",
    "    \n",
    "def test_prim_heaps_lis():\n",
    "    prim_heaps_lis(grafo_tfg_lis)"
   ]
  },
  {
   "cell_type": "markdown",
   "metadata": {},
   "source": [
    "Repitamos el proceso de pruebas anterior:"
   ]
  },
  {
   "cell_type": "code",
   "execution_count": 26,
   "metadata": {},
   "outputs": [
    {
     "name": "stdout",
     "output_type": "stream",
     "text": [
      "CPU times: user 23.1 s, sys: 0 ns, total: 23.1 s\n",
      "Wall time: 23.5 s\n"
     ]
    }
   ],
   "source": [
    "# Ejecutado en mi ordenador, el tiempo aproximado de la celda son unos 25 segundos\n",
    "%time tiempos_prim = t.repeat(test_prim, repeat=10000, number=100)"
   ]
  },
  {
   "cell_type": "code",
   "execution_count": 27,
   "metadata": {},
   "outputs": [
    {
     "name": "stdout",
     "output_type": "stream",
     "text": [
      "CPU times: user 12.1 s, sys: 0 ns, total: 12.1 s\n",
      "Wall time: 12.1 s\n"
     ]
    }
   ],
   "source": [
    "# Ejecutado en mi ordenador, el tiempo aproximado de la celda son unos 15 segundos\n",
    "%time tiempos_prim_heaps_lis = t.repeat(test_prim_heaps_lis, repeat=10000, number=100)"
   ]
  },
  {
   "cell_type": "code",
   "execution_count": 28,
   "metadata": {},
   "outputs": [
    {
     "data": {
      "text/html": [
       "<html><script type=\"math/tex; mode=display\">\\newcommand{\\Bold}[1]{\\mathbf{#1}}\\verb|Tiempos|\\phantom{\\verb!x!}\\verb|Prim| \\left[0.004213999956846237, 0.0038713000249117613, 0.00420619995566085, 0.002959400007966906, 0.00282100000185892, 0.0025659999810159206, 0.002564000023994595, 0.0025633000186644495, 0.002640100021380931, 0.002338999998755753\\right]</script></html>"
      ],
      "text/plain": [
       "'Tiempos Prim' [0.004213999956846237,\n",
       " 0.0038713000249117613,\n",
       " 0.00420619995566085,\n",
       " 0.002959400007966906,\n",
       " 0.00282100000185892,\n",
       " 0.0025659999810159206,\n",
       " 0.002564000023994595,\n",
       " 0.0025633000186644495,\n",
       " 0.002640100021380931,\n",
       " 0.002338999998755753]"
      ]
     },
     "metadata": {},
     "output_type": "display_data"
    },
    {
     "data": {
      "text/html": [
       "<html><script type=\"math/tex; mode=display\">\\newcommand{\\Bold}[1]{\\mathbf{#1}}\\verb|Tiempos|\\phantom{\\verb!x!}\\verb|Prim|\\phantom{\\verb!x!}\\verb|heaps|\\phantom{\\verb!x!}\\verb|lisgraph| \\left[0.0011963999713771045, 0.0011727000237442553, 0.0011706000077538192, 0.0011700000031851232, 0.0011696000001393259, 0.0011678999871946871, 0.0011680999887175858, 0.0011675999849103391, 0.0011700000031851232, 0.0014205999905243516\\right]</script></html>"
      ],
      "text/plain": [
       "'Tiempos Prim heaps lisgraph' [0.0011963999713771045,\n",
       " 0.0011727000237442553,\n",
       " 0.0011706000077538192,\n",
       " 0.0011700000031851232,\n",
       " 0.0011696000001393259,\n",
       " 0.0011678999871946871,\n",
       " 0.0011680999887175858,\n",
       " 0.0011675999849103391,\n",
       " 0.0011700000031851232,\n",
       " 0.0014205999905243516]"
      ]
     },
     "metadata": {},
     "output_type": "display_data"
    }
   ],
   "source": [
    "show(\"Tiempos Prim\", tiempos_prim[:10])\n",
    "show(\"Tiempos Prim heaps lisgraph\", tiempos_prim_heaps_lis[:10])"
   ]
  },
  {
   "cell_type": "code",
   "execution_count": 29,
   "metadata": {},
   "outputs": [
    {
     "data": {
      "text/html": [
       "<html><script type=\"math/tex; mode=display\">\\newcommand{\\Bold}[1]{\\mathbf{#1}}\\verb|En|\\phantom{\\verb!x!}\\verb|la|\\phantom{\\verb!x!}\\verb|prueba|\\phantom{\\verb!x!}\\verb|hay|\\phantom{\\verb!x!}\\verb|9991|\\phantom{\\verb!x!}\\verb|veces|\\phantom{\\verb!x!}\\verb|que|\\phantom{\\verb!x!}\\verb|es|\\phantom{\\verb!x!}\\verb|mejor|\\phantom{\\verb!x!}\\verb|usar|\\phantom{\\verb!x!}\\verb|heaps|\\phantom{\\verb!x!}\\verb|y|\\phantom{\\verb!x!}\\verb|9|\\phantom{\\verb!x!}\\verb|que|\\phantom{\\verb!x!}\\verb|no|</script></html>"
      ],
      "text/plain": [
       "'En la prueba hay 9991 veces que es mejor usar heaps y 9 que no'"
      ]
     },
     "metadata": {},
     "output_type": "display_data"
    }
   ],
   "source": [
    "heaps = 0\n",
    "for i in range(len(tiempos_prim)):\n",
    "    if tiempos_prim[i] > tiempos_prim_heaps_lis[i]:\n",
    "        heaps += 1\n",
    "\n",
    "show(f\"En la prueba hay {heaps} veces que es mejor usar heaps y {i-heaps+1} que no\")"
   ]
  },
  {
   "cell_type": "markdown",
   "metadata": {},
   "source": [
    "### En conclusión, parece que en el ejemplo del TFG casi siempre es mejor usar heaps (aproximadamente en un 99% de los casos)."
   ]
  },
  {
   "cell_type": "markdown",
   "metadata": {},
   "source": [
    "He tenido que volver a reutilizar la clase *lisgraph* para los grafos en la implementación de Prim con heaps, pero tengo curiosidad por ver cómo se implementaría reusando *adjgraph* y comparar tiempos de nuevo. Mi intuición me dice que va a ser más lento ya que la idea de ir creando el heap poco a poco se aprovechaba mucho de tener la lista de vecinos"
   ]
  },
  {
   "cell_type": "code",
   "execution_count": 30,
   "metadata": {},
   "outputs": [],
   "source": [
    "'''\n",
    " Algoritmo de Prim para encontrar el árbol recubridor mínimo\n",
    " en un grafo conexo no dirigido, usando un heap para representar\n",
    " la lista de enlaces sin explorar\n",
    " \n",
    " Entrada:\n",
    "     grafo: adjgraph -> grafo donde buscamos el árbol recubridor\n",
    "                        mínimo\n",
    " Salida:\n",
    "     (list, float) -> tupla formada por la lista de enlaces del \n",
    "                      árbol recubridor mínimo y su longitud total\n",
    "'''\n",
    "\n",
    "def prim_heaps_adj(grafo: adjgraph) -> (list, float):\n",
    "    longitud_total = 0                # Longitud total del MST\n",
    "    explorados = set()                # Conjunto de vértices del MST\n",
    "    primero = grafo.vertices()[0]     # Asumimos comenzar por el primer vértice\n",
    "    T = []                            # Lista de enlaces del MST\n",
    "    matriz = grafo.matriz()           # Matriz de adyacencias del grafo\n",
    "    \n",
    "    # Enlaces no explorados ordenados por longitud (será nuestro heap)\n",
    "    no_explorados = [(0, primero)]   \n",
    "    \n",
    "    while no_explorados:\n",
    "        longitud, ganador = hq.heappop(no_explorados)\n",
    "        if explorados:\n",
    "            (vertice1, vertice2) = tuple(ganador)\n",
    "            if vertice1 not in explorados:\n",
    "                nuevo_vertice = vertice1\n",
    "                T.append({ \"e\" : ganador, \n",
    "                           \"l\" : longitud })\n",
    "            elif vertice2 not in explorados:\n",
    "                nuevo_vertice = vertice2\n",
    "                T.append({ \"e\" : ganador, \n",
    "                           \"l\" : longitud })\n",
    "            else:\n",
    "                continue\n",
    "        else: \n",
    "            nuevo_vertice = ganador\n",
    "        explorados.add(nuevo_vertice)\n",
    "        longitud_total += longitud\n",
    "        vecino = primero\n",
    "        for longitud in matriz[int(nuevo_vertice)-1]:\n",
    "            if longitud < inf and vecino not in explorados:\n",
    "                hq.heappush(no_explorados, (longitud, {nuevo_vertice, vecino}))\n",
    "            vecino = str(int(vecino) + 1)\n",
    "    return T, longitud_total"
   ]
  },
  {
   "cell_type": "code",
   "execution_count": 31,
   "metadata": {},
   "outputs": [
    {
     "data": {
      "text/plain": [
       "([{'e': {'1', '2'}, 'l': 3},\n",
       "  {'e': {'1', '3'}, 'l': 4},\n",
       "  {'e': {'3', '4'}, 'l': 1},\n",
       "  {'e': {'4', '6'}, 'l': 1},\n",
       "  {'e': {'3', '5'}, 'l': 2}],\n",
       " 11)"
      ]
     },
     "execution_count": 31,
     "metadata": {},
     "output_type": "execute_result"
    }
   ],
   "source": [
    "prim_heaps_adj(grafo_tfg_adj)"
   ]
  },
  {
   "cell_type": "markdown",
   "metadata": {},
   "source": [
    "El funcionamiento sigue siendo el adecuado, veamos ahora la eficiencia"
   ]
  },
  {
   "cell_type": "code",
   "execution_count": 32,
   "metadata": {},
   "outputs": [],
   "source": [
    "def test_prim_heaps_adj():\n",
    "    prim_heaps_adj(grafo_tfg_adj)"
   ]
  },
  {
   "cell_type": "markdown",
   "metadata": {},
   "source": [
    "Mismas pruebas"
   ]
  },
  {
   "cell_type": "code",
   "execution_count": 33,
   "metadata": {},
   "outputs": [
    {
     "name": "stdout",
     "output_type": "stream",
     "text": [
      "CPU times: user 1min 6s, sys: 422 ms, total: 1min 6s\n",
      "Wall time: 1min 6s\n"
     ]
    }
   ],
   "source": [
    "# Ejecutado en mi ordenador, el tiempo aproximado de la celda es de 1 minuto\n",
    "%time tiempos_prim_heaps_adj = t.repeat(test_prim_heaps_adj, repeat=10000, number=100)"
   ]
  },
  {
   "cell_type": "code",
   "execution_count": 34,
   "metadata": {},
   "outputs": [
    {
     "data": {
      "text/html": [
       "<html><script type=\"math/tex; mode=display\">\\newcommand{\\Bold}[1]{\\mathbf{#1}}\\verb|Tiempos|\\phantom{\\verb!x!}\\verb|Prim|\\phantom{\\verb!x!}\\verb|heaps|\\phantom{\\verb!x!}\\verb|adjgraph| \\left[0.005472699995152652, 0.005302099976688623, 0.006413700000848621, 0.005542300001252443, 0.006572200043592602, 0.0056856999872252345, 0.006382399995345622, 0.005789100017864257, 0.005483800021465868, 0.0053186999866738915\\right]</script></html>"
      ],
      "text/plain": [
       "'Tiempos Prim heaps adjgraph' [0.005472699995152652,\n",
       " 0.005302099976688623,\n",
       " 0.006413700000848621,\n",
       " 0.005542300001252443,\n",
       " 0.006572200043592602,\n",
       " 0.0056856999872252345,\n",
       " 0.006382399995345622,\n",
       " 0.005789100017864257,\n",
       " 0.005483800021465868,\n",
       " 0.0053186999866738915]"
      ]
     },
     "metadata": {},
     "output_type": "display_data"
    }
   ],
   "source": [
    "show(\"Tiempos Prim heaps adjgraph\", tiempos_prim_heaps_adj[:10])"
   ]
  },
  {
   "cell_type": "code",
   "execution_count": 35,
   "metadata": {},
   "outputs": [
    {
     "data": {
      "text/html": [
       "<html><script type=\"math/tex; mode=display\">\\newcommand{\\Bold}[1]{\\mathbf{#1}}\\verb|En|\\phantom{\\verb!x!}\\verb|la|\\phantom{\\verb!x!}\\verb|prueba|\\phantom{\\verb!x!}\\verb|hay|\\phantom{\\verb!x!}\\verb|9998|\\phantom{\\verb!x!}\\verb|veces|\\phantom{\\verb!x!}\\verb|que|\\phantom{\\verb!x!}\\verb|es|\\phantom{\\verb!x!}\\verb|mejor|\\phantom{\\verb!x!}\\verb|usar|\\phantom{\\verb!x!}\\verb|lisgraph|\\phantom{\\verb!x!}\\verb|y|\\phantom{\\verb!x!}\\verb|2|\\phantom{\\verb!x!}\\verb|que|\\phantom{\\verb!x!}\\verb|no|</script></html>"
      ],
      "text/plain": [
       "'En la prueba hay 9998 veces que es mejor usar lisgraph y 2 que no'"
      ]
     },
     "metadata": {},
     "output_type": "display_data"
    }
   ],
   "source": [
    "lis = 0\n",
    "for i in range(len(tiempos_prim_heaps_adj)):\n",
    "    if tiempos_prim_heaps_adj[i] > tiempos_prim_heaps_lis[i]:\n",
    "        lis += 1\n",
    "\n",
    "show(f\"En la prueba hay {lis} veces que es mejor usar lisgraph y {i-lis+1} que no\")"
   ]
  },
  {
   "cell_type": "markdown",
   "metadata": {},
   "source": [
    "### En conclusión, parece que en el ejemplo del TFG casi siempre es mejor usar la clase *lisgraph* (aproximadamente en un 99% de los casos). Incluso, parece que usar heaps con *adjgraph* resulta bastante menos eficiente que no usar heaps."
   ]
  },
  {
   "cell_type": "markdown",
   "metadata": {},
   "source": [
    "# Algoritmo de Dijkstra / Dijkstra algorithm\n",
    "\n",
    "Vamos a implementar el algoritmo de Dijkstra, que trata de resolver el problema de dado un grafo conexo ponderado dirigido, encontrar los caminos más cortos desde un vértice a cada uno de los otros. En la memoria no mencionamos este problema, pero lo hemos sacado del libro *Fundamentals of algorithmics. Chapter 6: Greedy algorithms (Brassard, G.; Bratley, P.; 1996)*.\n",
    "\n",
    "<p align=\"center\">\n",
    "  <img src=\"imgs/psc_dijkstra_tfg.png\">\n",
    "</p>"
   ]
  },
  {
   "cell_type": "markdown",
   "metadata": {},
   "source": [
    "Para determinar no solo la longitud de los caminos más cortos, pero también por dónde pasan, habría que añadir un segundo *array P[2..n]*, donde *P[v]* contiene la etiqueta del vértice que precede a _v_ en el camino más corto. Para encontrar el camino completo, hay que seguir los punteros de *P* hacia detrás desde el destino hasta el origen. Estas serían las modificaciones necesarias del pseudocódigo anterior:\n",
    "\n",
    "<p align=\"center\">\n",
    "  <img src=\"imgs/psc_dijkstra_tfg_2.png\">\n",
    "</p>"
   ]
  },
  {
   "cell_type": "markdown",
   "metadata": {},
   "source": [
    "Parece que el pseudocódigo muestra el grafo como *adjgraph* al existir esa matriz de adyacencias. Comencemos implementándolo así, aunque más adelante el libro recomienda una versión usando *lisgraph*.\n",
    "\n",
    "De todos modos, ahora pasamos de grafos **no dirigidos** a grafos **dirigidos**, por lo que tendremos que reimplementar nuestras clases con algunas pequeñas modificaciones. También a la hora de implementar enlaces, ahora no van a ser un conjunto sino una **tupla**"
   ]
  },
  {
   "cell_type": "code",
   "execution_count": 36,
   "metadata": {},
   "outputs": [],
   "source": [
    "'''\n",
    "    Clase que representa un grafo ponderado DIRIGIDO \n",
    "    de n vértices como:\n",
    "    - Una lista con las etiquetas de los vértices (ordenados\n",
    "      de 1 a n)\n",
    "    - Una matriz de adyacencias (no necesariamente simétrica) \n",
    "      con la longitud de cada enlace e infinito en los enlaces \n",
    "      que no existan\n",
    "    Se implementan luego algunos métodos útiles\n",
    "'''\n",
    "\n",
    "class adjgraph_dir(object):\n",
    "    \n",
    "    def __init__(self, vertices=None, matriz=None):\n",
    "        '''\n",
    "            Inicializa un objeto adjgraph_dir.\n",
    "            Si no se pasan la matriz o los vértices,\n",
    "            se usarán unos vacíos.\n",
    "        '''\n",
    "        if vertices == None:\n",
    "            vertices = []\n",
    "        if matriz == None:\n",
    "            matriz = []\n",
    "        self.__vertices = vertices\n",
    "        self.__matriz = matriz\n",
    "\n",
    "    def vertices(self):\n",
    "        ''' Devuelve los vértices del grafo '''\n",
    "        return self.__vertices\n",
    "    \n",
    "    def matriz(self):\n",
    "        ''' Devuelve la matriz de adyacencias del grafo '''\n",
    "        return self.__matriz\n",
    "\n",
    "    def enlaces(self, vertice=None):\n",
    "        ''' \n",
    "            Devuelve los enlaces del grafo. \n",
    "            Si se pasa un vértice como argumento,\n",
    "            se devuelven los enlaces que contienen\n",
    "            a dicho vértice. Si no, se devuelven\n",
    "            todos los enlaces del grafo\n",
    "        '''\n",
    "        return self.__generar_enlaces(vertice)\n",
    "\n",
    "    def anadir_vertice(self, vertice):\n",
    "        ''' \n",
    "            Si el vértice \"vertice\" no está en \n",
    "            self.__vertices, se añade a la lista al\n",
    "            final (debe ser el vértice n+1 tal y como\n",
    "            hemos definido los vértices en este grafo)\n",
    "            se añade en la matriz de enlaces con inf,\n",
    "            y se devuelve True\n",
    "            En otro caso, devuelve False. \n",
    "        '''\n",
    "        if vertice not in self.__vertices:\n",
    "            num_v = len(self.__vertices)\n",
    "            if int(vertice) == num_v+1:\n",
    "                self.__vertices.append(vertice)\n",
    "                for lista in self.__matriz:\n",
    "                    lista.append(inf)\n",
    "                self.__matriz.append([inf]*(num_v+1))\n",
    "                return True\n",
    "        return False\n",
    "\n",
    "    def anadir_enlace(self, origen, destino, longitud):\n",
    "        ''' \n",
    "            Aquí como el grafo es digirido, el orden de \n",
    "            los vértices es importante. Se crea un enlace\n",
    "            de \"origen\" a \"destino\" de longitud \"longitud\",\n",
    "            añadiendo los vértices si es necesario y posible.\n",
    "        '''\n",
    "        indice1, indice2 = int(origen), int(destino)\n",
    "        if origen in self.__vertices and destino in self.__vertices:\n",
    "            i, j = indice1-1, indice2-1 \n",
    "            if self.__matriz[i][j] == inf:\n",
    "                self.__matriz[i][j] = longitud\n",
    "        elif origen in self.__vertices:\n",
    "            if self.anadir_vertice(destino):\n",
    "                i, j = indice1-1, indice2-1 \n",
    "                self.__matriz[i][j] = longitud\n",
    "        elif destino in self.__vertices:\n",
    "            if self.anadir_vertice(origen):\n",
    "                i, j = indice1-1, indice2-1 \n",
    "                self.__matriz[i][j] = longitud\n",
    "        else:\n",
    "            if abs(indice1-indice2) == 1:\n",
    "                if self.anadir_vertice(origen):\n",
    "                    self.anadir_vertice(destino)\n",
    "                elif self.anadir_vertice(destino):\n",
    "                    self.anadir_vertice(origen)\n",
    "                else:\n",
    "                    return\n",
    "                i, j = indice1-1, indice2-1 \n",
    "                self.__matriz[i][j] = longitud\n",
    "\n",
    "    def __generar_enlaces(self, vertice=None):\n",
    "        ''' \n",
    "            Un método estático que genera los enlaces del\n",
    "            grafo. Si se pasa un vértice como argumento,\n",
    "            se generan los enlaces que contienen\n",
    "            a dicho vértice. Si no, se generan todos.\n",
    "            Los enlaces son representados como \n",
    "            diccionarios con \"e\" (enlace) y \"l\" (longitud)\n",
    "        '''\n",
    "        enlaces = []\n",
    "        n = len(self.__vertices)\n",
    "        if vertice is None:\n",
    "            for i in range(n):\n",
    "                for j in range(n):\n",
    "                    enlace = self.__crear_enlace(i, j)\n",
    "                    if enlace is not None:\n",
    "                        enlaces.append(enlace)\n",
    "        else:\n",
    "            j = int(vertice - 1)\n",
    "            for i in range(n):\n",
    "                enlace = self.__crear_enlace(i, j)\n",
    "                if enlace is not None:\n",
    "                    enlaces.append(enlace)\n",
    "                enlace = self.__crear_enlace(j, i)\n",
    "                if enlace is not None:\n",
    "                    enlaces.append(enlace)\n",
    "                \n",
    "        return enlaces\n",
    "    \n",
    "    def __crear_enlace(self, fila, columna):\n",
    "        ''' \n",
    "            Un método estático que crea un enlace\n",
    "            accediendo a la matriz de adyacencias\n",
    "            por una fila y columna determinadas\n",
    "        '''\n",
    "        if self.__matriz[fila][columna] != inf:\n",
    "            return {\"e\" : (fila + 1, columna + 1),\n",
    "                    \"l\" : self.__matriz[fila][columna]}\n",
    "        else:\n",
    "            return None\n",
    "\n",
    "    def __str__(self):\n",
    "        res = \"vértices: \"\n",
    "        for k in self.__vertices:\n",
    "            res += k + \" \"\n",
    "        res += \"\\nenlaces: \"\n",
    "        for enlace in self.__generar_enlaces():\n",
    "            res += str(enlace) + \" \"\n",
    "        return res"
   ]
  },
  {
   "cell_type": "code",
   "execution_count": 37,
   "metadata": {},
   "outputs": [],
   "source": [
    "# Ejemplo de enlace dirigido como diccionario\n",
    "a = { \"e\" : (\"1\",\"2\"),\n",
    "      \"l\" : 1 }"
   ]
  },
  {
   "cell_type": "code",
   "execution_count": 38,
   "metadata": {},
   "outputs": [],
   "source": [
    "# Grafo de ejemplo del libro, de la figura 6.3, representado como adjgraph_dir\n",
    "vertices = [\"1\",\"2\",\"3\",\"4\",\"5\"]\n",
    "matriz = [[inf, 50, 30, 100, 10],\n",
    "          [inf, inf, inf, inf, inf],\n",
    "          [inf, 5, inf, inf, inf],\n",
    "          [inf, 20, 50, inf, inf],\n",
    "          [inf, inf, inf, 10, inf]]"
   ]
  },
  {
   "cell_type": "code",
   "execution_count": 39,
   "metadata": {},
   "outputs": [],
   "source": [
    "'''\n",
    " Función que selecciona el vértice a menos distancia,\n",
    " lo extrae del conjunto de no explorados y lo devuelve\n",
    " \n",
    " Entrada:\n",
    "     no_explorados: set -> conjunto de vértices no explorados\n",
    "     distancias: list   -> lista de distancias al origen\n",
    " Salida:\n",
    "     (float, str) -> tupla (distancia, etiqueta) del vértice\n",
    "                     a menor distancia\n",
    "'''\n",
    "def seleccionar_dijkstra(no_explorados: set, distancias: list) -> (float, str):\n",
    "    min = inf\n",
    "    for vertice in no_explorados:\n",
    "        indice = int(vertice) - 2\n",
    "        if distancias[indice] < min:\n",
    "            min = distancias[indice]\n",
    "            indice_ganador = indice\n",
    "    ganador = str(indice_ganador + 2)\n",
    "    no_explorados.remove(ganador)\n",
    "    return min, ganador"
   ]
  },
  {
   "cell_type": "code",
   "execution_count": 40,
   "metadata": {},
   "outputs": [],
   "source": [
    "'''\n",
    " Algoritmo de Dijkstra para encontrar el camino más corto entre\n",
    " un vértice origen y cada uno del resto de los vértices\n",
    " \n",
    " Entrada:\n",
    "     grafo: adjgraph_dir -> grafo donde buscamos los caminos \n",
    "                            más cortos\n",
    " Salida:\n",
    "     (list, list) -> tupla formada por la lista de longitudes de \n",
    "                     los caminos más cortos y una lista de punteros\n",
    "                     que indica el vértice anterior a seguir en\n",
    "                     cada camino\n",
    "'''\n",
    "def dijkstra_adj(grafo: adjgraph_dir) -> (list, list):\n",
    "    D = []                                     # Lista de distancias al origen\n",
    "    no_explorados = grafo.vertices().copy()    # Lista de vértices no explorados, ordenados\n",
    "    n = len(no_explorados)                     # Número de vértices del grafo\n",
    "    primero =  no_explorados.pop(0)            # Asumimos comenzar por el primer vértice\n",
    "    no_explorados = set(no_explorados)         # Hacemos que C sea un conjunto\n",
    "    P = [primero] * (n - 1)                    # Lista de punteros que indica cada camino\n",
    "    matriz = grafo.matriz()                    # Matriz de adyacencias del grafo\n",
    "    \n",
    "    # Inicializamos nuestro array según el vértice por el que empezamos\n",
    "    for i in range(1, n):\n",
    "        D.append(matriz[int(primero) - 1][i])\n",
    "\n",
    "    for _ in range(n-2):\n",
    "        dist_min, v = seleccionar_dijkstra(no_explorados, D)\n",
    "        for w in no_explorados:\n",
    "            indice_v, indice_w = int(v)-2, int(w)-2\n",
    "            suma = dist_min + matriz[indice_v + 1][indice_w + 1]\n",
    "            if D[indice_w] > suma:\n",
    "                D[indice_w] = suma\n",
    "                P[indice_w] = v\n",
    "    \n",
    "    return D, P"
   ]
  },
  {
   "cell_type": "markdown",
   "metadata": {},
   "source": [
    "Probamos el algoritmo con el ejemplo del libro"
   ]
  },
  {
   "cell_type": "code",
   "execution_count": 41,
   "metadata": {},
   "outputs": [
    {
     "data": {
      "text/plain": [
       "([35, 30, 20, 10], ['3', '1', '5', '1'])"
      ]
     },
     "execution_count": 41,
     "metadata": {},
     "output_type": "execute_result"
    }
   ],
   "source": [
    "grafo_dir_adj = adjgraph_dir(vertices, matriz)\n",
    "\n",
    "dijkstra_adj(grafo_dir_adj)"
   ]
  },
  {
   "cell_type": "markdown",
   "metadata": {},
   "source": [
    "¿Podríamos hacer lo mismo con *lisgraph*? Vamos a reimplementar la clase *lisgraph* ahora para grafos dirigidos, tal y como hicimos con *adjgraph*"
   ]
  },
  {
   "cell_type": "code",
   "execution_count": 42,
   "metadata": {},
   "outputs": [],
   "source": [
    "'''\n",
    "    Clase que representa un grafo DIRIGIDO como un diccionario con:\n",
    "    - Las etiquetas de los vértices como claves\n",
    "    - Una lista con tuplas de (etiqueta, longitud) de los vecinos\n",
    "      de dicho vértice y con cada longitud de esos enlaces\n",
    "    Se implementan luego algunos métodos útiles\n",
    "'''\n",
    "\n",
    "class lisgraph_dir(object):\n",
    "    \n",
    "    def __init__(self, grafo_dic=None):\n",
    "        '''\n",
    "            Inicializa un objeto lisgraph_dir.\n",
    "            Si no se pasa el diccionario,\n",
    "            se usará uno vacío.\n",
    "        '''\n",
    "        if grafo_dic == None:\n",
    "            grafo_dic = {}\n",
    "        self.__grafo_dic = grafo_dic\n",
    "\n",
    "    def vertices(self):\n",
    "        ''' Devuelve los vértices del grafo '''\n",
    "        return list(self.__grafo_dic.keys())\n",
    "\n",
    "    def enlaces(self):\n",
    "        ''' Devuelve los enlaces del grafo '''\n",
    "        return self.__generar_enlaces()\n",
    "    \n",
    "    def vecinos(self, vertice):\n",
    "        ''' Devuelve los vecinos de ese vértice '''\n",
    "        return self.__grafo_dic[vertice]\n",
    "\n",
    "    def anadir_vertice(self, vertice):\n",
    "        ''' \n",
    "            Si el vértice \"vertice\" no está en \n",
    "            self.__grafo_dic, una clave \"vertice\" con una\n",
    "            lista vacía como valor es añadida al diccionario. \n",
    "            En otro caso, no debe hacerse nada. \n",
    "        '''\n",
    "        if vertice not in self.__grafo_dic:\n",
    "            self.__grafo_dic[vertice] = []\n",
    "\n",
    "    def anadir_enlace(self, origen, destino, longitud):\n",
    "        ''' \n",
    "            Aquí como el grafo es digirido, el orden de \n",
    "            los vértices es importante. Se crea un enlace\n",
    "            de \"origen\" a \"destino\" de longitud \"longitud\",\n",
    "            añadiendo los vértices si es necesario y posible.\n",
    "        '''\n",
    "        self.anadir_vertice(destino)\n",
    "        if origen in self.__grafo_dic:\n",
    "            self.__grafo_dic[origen].append((destino, longitud))\n",
    "        else:\n",
    "            self.__grafo_dic[origen] = [(destino, longitud)]\n",
    "\n",
    "    def __generar_enlaces(self):\n",
    "        ''' \n",
    "            Un método estático que genera los enlaces del\n",
    "            grafo. Los enlaces son representados como \n",
    "            diccionarios con \"e\" (enlace) y \"l\" (longitud)\n",
    "        '''\n",
    "        enlaces = []\n",
    "        for vertice in self.__grafo_dic:\n",
    "            for vecino, longitud in self.__grafo_dic[vertice]:\n",
    "                if {\"e\" : (vecino, vertice),\n",
    "                    \"l\" : longitud} not in enlaces:\n",
    "                    enlaces.append({\"e\" : (vertice, vecino),\n",
    "                                    \"l\" : longitud})\n",
    "        return enlaces\n",
    "\n",
    "    def __str__(self):\n",
    "        res = \"vértices: \"\n",
    "        for k in self.__grafo_dic:\n",
    "            res += str(k) + \" \"\n",
    "        res += \"\\nenlaces: \"\n",
    "        for enlace in self.__generar_enlaces():\n",
    "            res += str(enlace) + \" \"\n",
    "        return res"
   ]
  },
  {
   "cell_type": "code",
   "execution_count": 43,
   "metadata": {},
   "outputs": [],
   "source": [
    "# Grafo de ejemplo del libro, de la figura 6.3, representado como lisgraph_dir\n",
    "g = { \"1\" : [(\"2\", 50), (\"3\", 30), (\"4\", 100), (\"5\", 10)],\n",
    "      \"2\" : [],\n",
    "      \"3\" : [(\"2\", 5)],\n",
    "      \"4\" : [(\"2\", 20), (\"3\", 50)],\n",
    "      \"5\" : [(\"4\", 10)] }"
   ]
  },
  {
   "cell_type": "code",
   "execution_count": 44,
   "metadata": {},
   "outputs": [],
   "source": [
    "'''\n",
    " Algoritmo de Dijkstra para encontrar el camino más corto entre\n",
    " un vértice origen y cada uno del resto de los vértices\n",
    " \n",
    " Entrada:\n",
    "     grafo: lisgraph_dir -> grafo donde buscamos los caminos \n",
    "                            más cortos\n",
    " Salida:\n",
    "     (list, list) -> tupla formada por la lista de longitudes de \n",
    "                     los caminos más cortos y una lista de punteros\n",
    "                     que indica el vértice anterior a seguir en\n",
    "                     cada camino\n",
    "'''\n",
    "def dijkstra_lis(grafo: lisgraph_dir) -> (list, list):\n",
    "    no_explorados = grafo.vertices().copy()    # Lista de vértices no explorados, ordenados\n",
    "    n = len(no_explorados)                     # Número de vértices del grafo\n",
    "    primero =  no_explorados.pop(0)            # Asumimos comenzar por el primer vértice\n",
    "    no_explorados = set(no_explorados)         # Hacemos que C sea un conjunto\n",
    "    D = [inf] * (n - 1)                        # Lista de distancias al origen\n",
    "    P = [primero] * (n - 1)                    # Lista de punteros que indica cada camino\n",
    "    \n",
    "    # Inicializamos nuestro array según el vértice por el que empezamos\n",
    "    for vecino, longitud in grafo.vecinos(primero):\n",
    "        D[int(vecino) - 2] = longitud\n",
    "\n",
    "    for _ in range(n-2):\n",
    "        dist_min, v = seleccionar_dijkstra(no_explorados, D)\n",
    "        vecinos = grafo.vecinos(v)\n",
    "        for w, longitud in vecinos:\n",
    "            indice_w = int(w)-2\n",
    "            suma = dist_min + longitud\n",
    "            if D[indice_w] > suma:\n",
    "                D[indice_w] = suma\n",
    "                P[indice_w] = v\n",
    "    \n",
    "    return D, P"
   ]
  },
  {
   "cell_type": "markdown",
   "metadata": {},
   "source": [
    "Volvemos a probar el algoritmo con el ejemplo del libro"
   ]
  },
  {
   "cell_type": "code",
   "execution_count": 45,
   "metadata": {},
   "outputs": [
    {
     "data": {
      "text/plain": [
       "([35, 30, 20, 10], ['3', '1', '5', '1'])"
      ]
     },
     "execution_count": 45,
     "metadata": {},
     "output_type": "execute_result"
    }
   ],
   "source": [
    "grafo_dir_lis = lisgraph_dir(g)\n",
    "\n",
    "dijkstra_lis(grafo_dir_lis)"
   ]
  },
  {
   "cell_type": "markdown",
   "metadata": {},
   "source": [
    "El funcionamiento sigue siendo el adecuado, veamos ahora la eficiencia"
   ]
  },
  {
   "cell_type": "code",
   "execution_count": 46,
   "metadata": {},
   "outputs": [],
   "source": [
    "def test_dijkstra_adj():\n",
    "    dijkstra_adj(grafo_dir_adj)\n",
    "\n",
    "def test_dijkstra_lis():\n",
    "    dijkstra_lis(grafo_dir_lis)"
   ]
  },
  {
   "cell_type": "markdown",
   "metadata": {},
   "source": [
    "Continuemos con el mismo estilo de pruebas"
   ]
  },
  {
   "cell_type": "code",
   "execution_count": 47,
   "metadata": {},
   "outputs": [
    {
     "name": "stdout",
     "output_type": "stream",
     "text": [
      "CPU times: user 28.4 s, sys: 0 ns, total: 28.4 s\n",
      "Wall time: 28.5 s\n"
     ]
    }
   ],
   "source": [
    "# Ejecutado en mi ordenador, el tiempo aproximado de la celda son unos 30 segundos\n",
    "%time tiempos_dijkstra_adj = t.repeat(test_dijkstra_adj, repeat=10000, number=100)"
   ]
  },
  {
   "cell_type": "code",
   "execution_count": 59,
   "metadata": {},
   "outputs": [
    {
     "name": "stdout",
     "output_type": "stream",
     "text": [
      "CPU times: user 19.2 s, sys: 0 ns, total: 19.2 s\n",
      "Wall time: 19.7 s\n"
     ]
    }
   ],
   "source": [
    "# Ejecutado en mi ordenador, el tiempo aproximado de la celda son unos 20 segundos\n",
    "%time tiempos_dijkstra_lis = t.repeat(test_dijkstra_lis, repeat=10000, number=100)"
   ]
  },
  {
   "cell_type": "code",
   "execution_count": 49,
   "metadata": {},
   "outputs": [
    {
     "data": {
      "text/html": [
       "<html><script type=\"math/tex; mode=display\">\\newcommand{\\Bold}[1]{\\mathbf{#1}}\\verb|Tiempos|\\phantom{\\verb!x!}\\verb|Dijkstra|\\phantom{\\verb!x!}\\verb|adjgraph| \\left[0.003574000031221658, 0.0027860000263899565, 0.0028637999785132706, 0.003205199958756566, 0.0037104000221006572, 0.0029132000054232776, 0.0032469999860040843, 0.002803899988066405, 0.003132699988782406, 0.0027803999837487936\\right]</script></html>"
      ],
      "text/plain": [
       "'Tiempos Dijkstra adjgraph' [0.003574000031221658,\n",
       " 0.0027860000263899565,\n",
       " 0.0028637999785132706,\n",
       " 0.003205199958756566,\n",
       " 0.0037104000221006572,\n",
       " 0.0029132000054232776,\n",
       " 0.0032469999860040843,\n",
       " 0.002803899988066405,\n",
       " 0.003132699988782406,\n",
       " 0.0027803999837487936]"
      ]
     },
     "metadata": {},
     "output_type": "display_data"
    },
    {
     "data": {
      "text/html": [
       "<html><script type=\"math/tex; mode=display\">\\newcommand{\\Bold}[1]{\\mathbf{#1}}\\verb|Tiempos|\\phantom{\\verb!x!}\\verb|Dijkstra|\\phantom{\\verb!x!}\\verb|lisgraph| \\left[0.0019443000201135874, 0.0019197000074200332, 0.0018606000230647624, 0.0018551999819464982, 0.0018515000119805336, 0.0018690999713726342, 0.0024741999804973602, 0.0020540999830700457, 0.0019987999694421887, 0.0021603000350296497\\right]</script></html>"
      ],
      "text/plain": [
       "'Tiempos Dijkstra lisgraph' [0.0019443000201135874,\n",
       " 0.0019197000074200332,\n",
       " 0.0018606000230647624,\n",
       " 0.0018551999819464982,\n",
       " 0.0018515000119805336,\n",
       " 0.0018690999713726342,\n",
       " 0.0024741999804973602,\n",
       " 0.0020540999830700457,\n",
       " 0.0019987999694421887,\n",
       " 0.0021603000350296497]"
      ]
     },
     "metadata": {},
     "output_type": "display_data"
    }
   ],
   "source": [
    "show(\"Tiempos Dijkstra adjgraph\", tiempos_dijkstra_adj[:10])\n",
    "show(\"Tiempos Dijkstra lisgraph\", tiempos_dijkstra_lis[:10])"
   ]
  },
  {
   "cell_type": "code",
   "execution_count": 50,
   "metadata": {},
   "outputs": [
    {
     "data": {
      "text/html": [
       "<html><script type=\"math/tex; mode=display\">\\newcommand{\\Bold}[1]{\\mathbf{#1}}\\verb|En|\\phantom{\\verb!x!}\\verb|la|\\phantom{\\verb!x!}\\verb|prueba|\\phantom{\\verb!x!}\\verb|hay|\\phantom{\\verb!x!}\\verb|9990|\\phantom{\\verb!x!}\\verb|veces|\\phantom{\\verb!x!}\\verb|que|\\phantom{\\verb!x!}\\verb|es|\\phantom{\\verb!x!}\\verb|mejor|\\phantom{\\verb!x!}\\verb|usar|\\phantom{\\verb!x!}\\verb|lisgraph|\\phantom{\\verb!x!}\\verb|y|\\phantom{\\verb!x!}\\verb|10|\\phantom{\\verb!x!}\\verb|que|\\phantom{\\verb!x!}\\verb|no|</script></html>"
      ],
      "text/plain": [
       "'En la prueba hay 9990 veces que es mejor usar lisgraph y 10 que no'"
      ]
     },
     "metadata": {},
     "output_type": "display_data"
    }
   ],
   "source": [
    "lis = 0\n",
    "for i in range(len(tiempos_dijkstra_adj)):\n",
    "    if tiempos_dijkstra_adj[i] > tiempos_dijkstra_lis[i]:\n",
    "        lis += 1\n",
    "\n",
    "show(f\"En la prueba hay {lis} veces que es mejor usar lisgraph y {i-lis+1} que no\")"
   ]
  },
  {
   "cell_type": "markdown",
   "metadata": {},
   "source": [
    "### En conclusión, parece que en el ejemplo del libro casi siempre es mejor usar la clase *lisgraph* (aproximadamente en un 99% de los casos)."
   ]
  },
  {
   "cell_type": "markdown",
   "metadata": {},
   "source": [
    "Para finalizar la implementación de estos algoritmos, vamos a seguir la recomendación del libro una vez más y usar **min heaps** para representar el conjunto de vértices no explorados, ordenando por distancia al origen. De ese modo podremos hacer el *seleccionar()* en tiempo logarítmico. Mantenemos la utilización de *lisgraph* ya que era más eficiente, al menos para este ejemplo."
   ]
  },
  {
   "cell_type": "code",
   "execution_count": 51,
   "metadata": {},
   "outputs": [],
   "source": [
    "'''\n",
    " Función que selecciona el vértice a menos distancia,\n",
    " lo extrae del heap de no explorados y lo devuelve\n",
    " \n",
    " Entrada:\n",
    "     heap: list -> heap de vértices no explorados\n",
    " Salida:\n",
    "     (float, str) -> raíz del heap\n",
    "'''\n",
    "def seleccionar_dijkstra_heaps(heap: list) -> (float, str):\n",
    "    return hq.heappop(heap)"
   ]
  },
  {
   "cell_type": "code",
   "execution_count": 52,
   "metadata": {},
   "outputs": [],
   "source": [
    "'''\n",
    " Algoritmo de Dijkstra para encontrar el camino más corto entre\n",
    " un vértice origen y cada uno del resto de los vértices, usando\n",
    " un min heap para el conjunto de vértices no explorados\n",
    " \n",
    " Entrada:\n",
    "     grafo: lisgraph_dir -> grafo donde buscamos los caminos \n",
    "                            más cortos\n",
    " Salida:\n",
    "     (list, list) -> tupla formada por la lista de longitudes de \n",
    "                     los caminos más cortos y una lista de punteros\n",
    "                     que indica el vértice anterior a seguir en\n",
    "                     cada camino\n",
    "'''\n",
    "def dijkstra_lis_heaps(grafo: lisgraph_dir) -> (list, list):\n",
    "    n = len(grafo.vertices())         # Número de vértices del grafo\n",
    "    explorados = set()                # Conjunto de vértices del MST\n",
    "    primero = grafo.vertices()[0]     # Asumimos comenzar por el primer vértice\n",
    "    D = [inf] * (n - 1)               # Lista de distancias al origen\n",
    "    P = [primero] * (n - 1)           # Lista de punteros que indica cada camino\n",
    "    \n",
    "    # Inicializamos nuestro array según el vértice por el que empezamos\n",
    "    for vecino, longitud in grafo.vecinos(primero):\n",
    "        D[int(vecino) - 2] = longitud\n",
    "    \n",
    "    no_explorados = [(0, primero)]\n",
    "\n",
    "    while no_explorados:\n",
    "        dist_min, v = seleccionar_dijkstra_heaps(no_explorados)\n",
    "        if explorados:\n",
    "            if v in explorados:\n",
    "                continue\n",
    "        explorados.add(v)\n",
    "        vecinos = grafo.vecinos(v)\n",
    "        for w, longitud in vecinos:\n",
    "            indice_w = int(w)-2\n",
    "            suma = dist_min + longitud\n",
    "            if D[indice_w] >= suma and w not in explorados:\n",
    "                D[indice_w] = suma\n",
    "                hq.heappush(no_explorados, (suma, w))\n",
    "                P[indice_w] = v\n",
    "    \n",
    "    return D, P"
   ]
  },
  {
   "cell_type": "markdown",
   "metadata": {},
   "source": [
    "Observamos que hemos vuelto a reutilizar la idea de **ir creando el heap paso a paso con los vecinos no explorados**, pues desde el módulo *heapq* no tendríamos modo de \"promocionar\" el nodo del heap cuya distancia modificamos.\n",
    "\n",
    "Probemos por última vez con el ejemplo del libro"
   ]
  },
  {
   "cell_type": "code",
   "execution_count": 53,
   "metadata": {},
   "outputs": [
    {
     "data": {
      "text/plain": [
       "([35, 30, 20, 10], ['3', '1', '5', '1'])"
      ]
     },
     "execution_count": 53,
     "metadata": {},
     "output_type": "execute_result"
    }
   ],
   "source": [
    "dijkstra_lis_heaps(grafo_dir_lis)"
   ]
  },
  {
   "cell_type": "markdown",
   "metadata": {},
   "source": [
    "Funciona adecuadamente, veamos ahora la eficiencia"
   ]
  },
  {
   "cell_type": "code",
   "execution_count": 54,
   "metadata": {},
   "outputs": [],
   "source": [
    "def test_dijkstra_lis_heaps():\n",
    "    dijkstra_lis_heaps(grafo_dir_lis)"
   ]
  },
  {
   "cell_type": "markdown",
   "metadata": {},
   "source": [
    "Mismas pruebas"
   ]
  },
  {
   "cell_type": "code",
   "execution_count": 60,
   "metadata": {},
   "outputs": [
    {
     "name": "stdout",
     "output_type": "stream",
     "text": [
      "CPU times: user 18.5 s, sys: 46 ms, total: 18.5 s\n",
      "Wall time: 22.1 s\n"
     ]
    }
   ],
   "source": [
    "# Ejecutado en mi ordenador, el tiempo aproximado de la celda son unos 20 segundos\n",
    "%time tiempos_dijkstra_lis_heaps = t.repeat(test_dijkstra_lis_heaps, repeat=10000, number=100)"
   ]
  },
  {
   "cell_type": "code",
   "execution_count": 56,
   "metadata": {},
   "outputs": [
    {
     "data": {
      "text/html": [
       "<html><script type=\"math/tex; mode=display\">\\newcommand{\\Bold}[1]{\\mathbf{#1}}\\verb|Tiempos|\\phantom{\\verb!x!}\\verb|Dijkstra|\\phantom{\\verb!x!}\\verb|heaps|\\phantom{\\verb!x!}\\verb|lisgraph| \\left[0.0018414999940432608, 0.0018124000052921474, 0.0018218999612145126, 0.0018142000189982355, 0.0018191999988630414, 0.0020386999822221696, 0.0022347000194713473, 0.001954499981366098, 0.001768199959769845, 0.0019331999938003719\\right]</script></html>"
      ],
      "text/plain": [
       "'Tiempos Dijkstra heaps lisgraph' [0.0018414999940432608,\n",
       " 0.0018124000052921474,\n",
       " 0.0018218999612145126,\n",
       " 0.0018142000189982355,\n",
       " 0.0018191999988630414,\n",
       " 0.0020386999822221696,\n",
       " 0.0022347000194713473,\n",
       " 0.001954499981366098,\n",
       " 0.001768199959769845,\n",
       " 0.0019331999938003719]"
      ]
     },
     "metadata": {},
     "output_type": "display_data"
    }
   ],
   "source": [
    "show(\"Tiempos Dijkstra heaps lisgraph\", tiempos_dijkstra_lis_heaps[:10])"
   ]
  },
  {
   "cell_type": "code",
   "execution_count": 61,
   "metadata": {},
   "outputs": [
    {
     "data": {
      "text/html": [
       "<html><script type=\"math/tex; mode=display\">\\newcommand{\\Bold}[1]{\\mathbf{#1}}\\verb|En|\\phantom{\\verb!x!}\\verb|la|\\phantom{\\verb!x!}\\verb|prueba|\\phantom{\\verb!x!}\\verb|hay|\\phantom{\\verb!x!}\\verb|7495|\\phantom{\\verb!x!}\\verb|veces|\\phantom{\\verb!x!}\\verb|que|\\phantom{\\verb!x!}\\verb|es|\\phantom{\\verb!x!}\\verb|mejor|\\phantom{\\verb!x!}\\verb|usar|\\phantom{\\verb!x!}\\verb|heaps|\\phantom{\\verb!x!}\\verb|y|\\phantom{\\verb!x!}\\verb|2505|\\phantom{\\verb!x!}\\verb|que|\\phantom{\\verb!x!}\\verb|no|</script></html>"
      ],
      "text/plain": [
       "'En la prueba hay 7495 veces que es mejor usar heaps y 2505 que no'"
      ]
     },
     "metadata": {},
     "output_type": "display_data"
    }
   ],
   "source": [
    "heaps = 0\n",
    "for i in range(len(tiempos_dijkstra_lis)):\n",
    "    if tiempos_dijkstra_lis[i] > tiempos_dijkstra_lis_heaps[i]:\n",
    "        heaps += 1\n",
    "\n",
    "show(f\"En la prueba hay {heaps} veces que es mejor usar heaps y {i-heaps+1} que no\")"
   ]
  },
  {
   "cell_type": "markdown",
   "metadata": {},
   "source": [
    "### En conclusión, parece que en el ejemplo del libro es mejor usar heaps en una alta proporción de los casos (por encima del 70%). De todos modos, como en cada caso anterior, estas pruebas deberían realizarse con grafos más aleatorios y mayor número de ejecuciones"
   ]
  },
  {
   "cell_type": "code",
   "execution_count": null,
   "metadata": {},
   "outputs": [],
   "source": []
  }
 ],
 "metadata": {
  "kernelspec": {
   "display_name": "SageMath 9.0",
   "language": "sage",
   "name": "sagemath"
  },
  "language_info": {
   "codemirror_mode": {
    "name": "ipython",
    "version": 3
   },
   "file_extension": ".py",
   "mimetype": "text/x-python",
   "name": "python",
   "nbconvert_exporter": "python",
   "pygments_lexer": "ipython3",
   "version": "3.7.3"
  }
 },
 "nbformat": 4,
 "nbformat_minor": 2
}
